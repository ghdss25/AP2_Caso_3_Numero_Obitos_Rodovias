{
 "cells": [
  {
   "cell_type": "markdown",
   "id": "7da4eed7",
   "metadata": {},
   "source": [
    "## Importando os dados do Caso 3 "
   ]
  },
  {
   "cell_type": "code",
   "execution_count": 13,
   "id": "f45c0198",
   "metadata": {},
   "outputs": [
    {
     "data": {
      "text/html": [
       "'/home/gustavo/Projeto de Dados/Análise_R/AP2/Caso_3'"
      ],
      "text/latex": [
       "'/home/gustavo/Projeto de Dados/Análise\\_R/AP2/Caso\\_3'"
      ],
      "text/markdown": [
       "'/home/gustavo/Projeto de Dados/Análise_R/AP2/Caso_3'"
      ],
      "text/plain": [
       "[1] \"/home/gustavo/Projeto de Dados/Análise_R/AP2/Caso_3\""
      ]
     },
     "metadata": {},
     "output_type": "display_data"
    }
   ],
   "source": [
    "setwd(\"/home/gustavo/Projeto de Dados/Análise_R/AP2/Caso_3\")\n",
    "getwd()"
   ]
  },
  {
   "cell_type": "markdown",
   "id": "00c740a5",
   "metadata": {},
   "source": [
    "## Leitura dos Pacotes do R "
   ]
  },
  {
   "cell_type": "code",
   "execution_count": 14,
   "id": "c4937a8a",
   "metadata": {},
   "outputs": [
    {
     "name": "stderr",
     "output_type": "stream",
     "text": [
      "Loading required package: usethis\n",
      "\n",
      "Loading required package: kableExtra\n",
      "\n",
      "── \u001b[1mAttaching packages\u001b[22m ──────────────────────────────────────────────────────────────────────────────────────────────────────────────────────────────── tidyverse 1.3.1 ──\n",
      "\n",
      "\u001b[32m✔\u001b[39m \u001b[34mggplot2\u001b[39m 3.3.5     \u001b[32m✔\u001b[39m \u001b[34mpurrr  \u001b[39m 0.3.4\n",
      "\u001b[32m✔\u001b[39m \u001b[34mtibble \u001b[39m 3.1.6     \u001b[32m✔\u001b[39m \u001b[34mdplyr  \u001b[39m 1.0.7\n",
      "\u001b[32m✔\u001b[39m \u001b[34mtidyr  \u001b[39m 1.1.4     \u001b[32m✔\u001b[39m \u001b[34mstringr\u001b[39m 1.4.0\n",
      "\u001b[32m✔\u001b[39m \u001b[34mreadr  \u001b[39m 2.0.2     \u001b[32m✔\u001b[39m \u001b[34mforcats\u001b[39m 0.5.1\n",
      "\n",
      "── \u001b[1mConflicts\u001b[22m ─────────────────────────────────────────────────────────────────────────────────────────────────────────────────────────────────── tidyverse_conflicts() ──\n",
      "\u001b[31m✖\u001b[39m \u001b[34mdplyr\u001b[39m::\u001b[32mfilter()\u001b[39m     masks \u001b[34mstats\u001b[39m::filter()\n",
      "\u001b[31m✖\u001b[39m \u001b[34mdplyr\u001b[39m::\u001b[32mgroup_rows()\u001b[39m masks \u001b[34mkableExtra\u001b[39m::group_rows()\n",
      "\u001b[31m✖\u001b[39m \u001b[34mdplyr\u001b[39m::\u001b[32mlag()\u001b[39m        masks \u001b[34mstats\u001b[39m::lag()\n",
      "\n",
      "\n",
      "Attaching package: ‘plm’\n",
      "\n",
      "\n",
      "The following objects are masked from ‘package:dplyr’:\n",
      "\n",
      "    between, lag, lead\n",
      "\n",
      "\n",
      "\n",
      "Please cite as: \n",
      "\n",
      "\n",
      " Hlavac, Marek (2022). stargazer: Well-Formatted Regression and Summary Statistics Tables.\n",
      "\n",
      " R package version 5.2.3. https://CRAN.R-project.org/package=stargazer \n",
      "\n",
      "\n",
      "Loading required package: MASS\n",
      "\n",
      "\n",
      "Attaching package: ‘MASS’\n",
      "\n",
      "\n",
      "The following object is masked from ‘package:dplyr’:\n",
      "\n",
      "    select\n",
      "\n",
      "\n",
      "## \n",
      "##  Matching (Version 4.10-2, Build Date: 2022-04-13)\n",
      "##  See http://sekhon.berkeley.edu/matching for additional documentation.\n",
      "##  Please cite software as:\n",
      "##   Jasjeet S. Sekhon. 2011. ``Multivariate and Propensity Score Matching\n",
      "##   Software with Automated Balance Optimization: The Matching package for R.''\n",
      "##   Journal of Statistical Software, 42(7): 1-52. \n",
      "##\n",
      "\n",
      "\n",
      "##\n",
      "## ebal Package: Implements Entropy Balancing.\n",
      "\n",
      "\n",
      "## See http://www.stanford.edu/~jhain/ for additional information.\n",
      "\n",
      "\n",
      "\n"
     ]
    }
   ],
   "source": [
    "library(devtools)\n",
    "library(vtable)\n",
    "library(readxl)\n",
    "library(tidyverse)\n",
    "library(dplyr)\n",
    "library(foreign)\n",
    "library(plm)\n",
    "library(stargazer)\n",
    "library(MatchIt)\n",
    "\n",
    "library(Matching)\n",
    "library(ebal)"
   ]
  },
  {
   "cell_type": "code",
   "execution_count": 15,
   "id": "a463431b",
   "metadata": {},
   "outputs": [],
   "source": [
    "library(\"rbounds\")"
   ]
  },
  {
   "cell_type": "markdown",
   "id": "405f9679",
   "metadata": {},
   "source": [
    "## Importação dos dados do Caso 3"
   ]
  },
  {
   "cell_type": "code",
   "execution_count": 16,
   "id": "e9d6d252",
   "metadata": {},
   "outputs": [
    {
     "data": {
      "text/html": [
       "<table class=\"dataframe\">\n",
       "<caption>A tibble: 10000 × 10</caption>\n",
       "<thead>\n",
       "\t<tr><th scope=col>id</th><th scope=col>pp</th><th scope=col>reg_pais1</th><th scope=col>reg_pais2</th><th scope=col>reg_pais3</th><th scope=col>reg_pais4</th><th scope=col>reg_pais5</th><th scope=col>reg_pais6</th><th scope=col>obito_ant</th><th scope=col>obito</th></tr>\n",
       "\t<tr><th scope=col>&lt;dbl&gt;</th><th scope=col>&lt;dbl&gt;</th><th scope=col>&lt;dbl&gt;</th><th scope=col>&lt;dbl&gt;</th><th scope=col>&lt;dbl&gt;</th><th scope=col>&lt;dbl&gt;</th><th scope=col>&lt;dbl&gt;</th><th scope=col>&lt;dbl&gt;</th><th scope=col>&lt;dbl&gt;</th><th scope=col>&lt;dbl&gt;</th></tr>\n",
       "</thead>\n",
       "<tbody>\n",
       "\t<tr><td> 1</td><td>0</td><td>1</td><td>1</td><td>0</td><td>1</td><td>0</td><td>1</td><td> 71.734</td><td>105.92</td></tr>\n",
       "\t<tr><td> 2</td><td>0</td><td>1</td><td>0</td><td>0</td><td>0</td><td>0</td><td>1</td><td> 86.913</td><td>124.93</td></tr>\n",
       "\t<tr><td> 3</td><td>0</td><td>0</td><td>1</td><td>0</td><td>1</td><td>1</td><td>0</td><td> 72.985</td><td>106.93</td></tr>\n",
       "\t<tr><td> 4</td><td>1</td><td>0</td><td>0</td><td>1</td><td>1</td><td>1</td><td>0</td><td> 91.888</td><td>116.64</td></tr>\n",
       "\t<tr><td> 5</td><td>0</td><td>0</td><td>0</td><td>0</td><td>0</td><td>0</td><td>0</td><td> 62.233</td><td> 93.01</td></tr>\n",
       "\t<tr><td> 6</td><td>0</td><td>1</td><td>1</td><td>0</td><td>0</td><td>0</td><td>1</td><td> 76.610</td><td>104.03</td></tr>\n",
       "\t<tr><td> 7</td><td>1</td><td>0</td><td>1</td><td>1</td><td>0</td><td>1</td><td>1</td><td> 89.615</td><td>116.68</td></tr>\n",
       "\t<tr><td> 8</td><td>1</td><td>0</td><td>0</td><td>1</td><td>0</td><td>0</td><td>0</td><td> 69.145</td><td> 87.43</td></tr>\n",
       "\t<tr><td> 9</td><td>1</td><td>0</td><td>0</td><td>0</td><td>1</td><td>1</td><td>1</td><td>119.291</td><td>151.06</td></tr>\n",
       "\t<tr><td>10</td><td>0</td><td>1</td><td>1</td><td>0</td><td>0</td><td>0</td><td>0</td><td> 51.623</td><td> 87.68</td></tr>\n",
       "\t<tr><td>11</td><td>1</td><td>0</td><td>1</td><td>0</td><td>1</td><td>1</td><td>0</td><td> 71.812</td><td> 92.30</td></tr>\n",
       "\t<tr><td>12</td><td>0</td><td>1</td><td>1</td><td>0</td><td>1</td><td>0</td><td>1</td><td> 82.960</td><td>126.15</td></tr>\n",
       "\t<tr><td>13</td><td>1</td><td>1</td><td>0</td><td>1</td><td>1</td><td>0</td><td>1</td><td> 90.168</td><td>111.88</td></tr>\n",
       "\t<tr><td>14</td><td>0</td><td>1</td><td>0</td><td>1</td><td>1</td><td>1</td><td>1</td><td>112.927</td><td>153.28</td></tr>\n",
       "\t<tr><td>15</td><td>0</td><td>0</td><td>1</td><td>1</td><td>1</td><td>0</td><td>0</td><td> 82.871</td><td>120.15</td></tr>\n",
       "\t<tr><td>16</td><td>0</td><td>1</td><td>1</td><td>0</td><td>1</td><td>0</td><td>0</td><td> 59.274</td><td> 84.37</td></tr>\n",
       "\t<tr><td>17</td><td>1</td><td>0</td><td>0</td><td>1</td><td>0</td><td>0</td><td>1</td><td> 86.826</td><td>117.95</td></tr>\n",
       "\t<tr><td>18</td><td>1</td><td>0</td><td>1</td><td>0</td><td>1</td><td>0</td><td>0</td><td> 70.322</td><td> 88.11</td></tr>\n",
       "\t<tr><td>19</td><td>0</td><td>0</td><td>0</td><td>1</td><td>0</td><td>0</td><td>1</td><td> 86.552</td><td>130.88</td></tr>\n",
       "\t<tr><td>20</td><td>1</td><td>0</td><td>1</td><td>1</td><td>0</td><td>0</td><td>0</td><td> 64.999</td><td> 83.99</td></tr>\n",
       "\t<tr><td>21</td><td>1</td><td>0</td><td>0</td><td>0</td><td>1</td><td>1</td><td>1</td><td>108.051</td><td>129.17</td></tr>\n",
       "\t<tr><td>22</td><td>0</td><td>1</td><td>1</td><td>0</td><td>0</td><td>0</td><td>1</td><td> 64.561</td><td> 91.58</td></tr>\n",
       "\t<tr><td>23</td><td>0</td><td>1</td><td>0</td><td>0</td><td>0</td><td>1</td><td>0</td><td> 65.319</td><td>100.57</td></tr>\n",
       "\t<tr><td>24</td><td>1</td><td>0</td><td>0</td><td>0</td><td>0</td><td>0</td><td>0</td><td> 71.629</td><td> 98.25</td></tr>\n",
       "\t<tr><td>25</td><td>0</td><td>0</td><td>1</td><td>0</td><td>0</td><td>1</td><td>1</td><td> 90.292</td><td>131.27</td></tr>\n",
       "\t<tr><td>26</td><td>0</td><td>0</td><td>0</td><td>0</td><td>0</td><td>1</td><td>0</td><td> 79.192</td><td>116.45</td></tr>\n",
       "\t<tr><td>27</td><td>1</td><td>0</td><td>0</td><td>1</td><td>1</td><td>1</td><td>1</td><td>120.250</td><td>146.30</td></tr>\n",
       "\t<tr><td>28</td><td>1</td><td>1</td><td>1</td><td>0</td><td>1</td><td>1</td><td>1</td><td> 90.049</td><td>112.55</td></tr>\n",
       "\t<tr><td>29</td><td>1</td><td>0</td><td>1</td><td>0</td><td>0</td><td>0</td><td>0</td><td> 49.095</td><td> 57.36</td></tr>\n",
       "\t<tr><td>30</td><td>0</td><td>0</td><td>1</td><td>1</td><td>1</td><td>0</td><td>1</td><td> 86.956</td><td>128.91</td></tr>\n",
       "\t<tr><td>⋮</td><td>⋮</td><td>⋮</td><td>⋮</td><td>⋮</td><td>⋮</td><td>⋮</td><td>⋮</td><td>⋮</td><td>⋮</td></tr>\n",
       "\t<tr><td> 9971</td><td>1</td><td>0</td><td>0</td><td>1</td><td>0</td><td>0</td><td>1</td><td> 95.000</td><td>126.00</td></tr>\n",
       "\t<tr><td> 9972</td><td>1</td><td>1</td><td>1</td><td>0</td><td>1</td><td>1</td><td>1</td><td> 97.060</td><td>119.07</td></tr>\n",
       "\t<tr><td> 9973</td><td>1</td><td>1</td><td>0</td><td>1</td><td>1</td><td>0</td><td>1</td><td> 98.804</td><td>128.10</td></tr>\n",
       "\t<tr><td> 9974</td><td>1</td><td>0</td><td>0</td><td>1</td><td>0</td><td>1</td><td>0</td><td> 85.892</td><td>109.49</td></tr>\n",
       "\t<tr><td> 9975</td><td>0</td><td>1</td><td>0</td><td>0</td><td>1</td><td>0</td><td>0</td><td> 64.520</td><td> 99.62</td></tr>\n",
       "\t<tr><td> 9976</td><td>0</td><td>0</td><td>0</td><td>1</td><td>1</td><td>0</td><td>1</td><td> 94.898</td><td>133.36</td></tr>\n",
       "\t<tr><td> 9977</td><td>0</td><td>1</td><td>1</td><td>1</td><td>0</td><td>1</td><td>0</td><td> 68.307</td><td>100.04</td></tr>\n",
       "\t<tr><td> 9978</td><td>1</td><td>0</td><td>0</td><td>1</td><td>0</td><td>1</td><td>0</td><td> 81.556</td><td> 98.42</td></tr>\n",
       "\t<tr><td> 9979</td><td>0</td><td>1</td><td>1</td><td>0</td><td>1</td><td>0</td><td>1</td><td> 85.823</td><td>125.71</td></tr>\n",
       "\t<tr><td> 9980</td><td>0</td><td>0</td><td>0</td><td>0</td><td>0</td><td>1</td><td>1</td><td>106.790</td><td>149.55</td></tr>\n",
       "\t<tr><td> 9981</td><td>0</td><td>1</td><td>0</td><td>1</td><td>1</td><td>1</td><td>0</td><td> 92.761</td><td>135.43</td></tr>\n",
       "\t<tr><td> 9982</td><td>0</td><td>0</td><td>1</td><td>0</td><td>1</td><td>0</td><td>1</td><td> 93.215</td><td>131.01</td></tr>\n",
       "\t<tr><td> 9983</td><td>1</td><td>0</td><td>1</td><td>0</td><td>1</td><td>1</td><td>0</td><td> 72.912</td><td> 88.62</td></tr>\n",
       "\t<tr><td> 9984</td><td>1</td><td>0</td><td>1</td><td>0</td><td>0</td><td>0</td><td>1</td><td> 81.101</td><td>106.33</td></tr>\n",
       "\t<tr><td> 9985</td><td>0</td><td>1</td><td>0</td><td>0</td><td>1</td><td>0</td><td>1</td><td> 94.499</td><td>131.39</td></tr>\n",
       "\t<tr><td> 9986</td><td>0</td><td>0</td><td>1</td><td>0</td><td>0</td><td>0</td><td>1</td><td> 79.198</td><td>121.02</td></tr>\n",
       "\t<tr><td> 9987</td><td>0</td><td>0</td><td>1</td><td>1</td><td>1</td><td>1</td><td>1</td><td>109.711</td><td>140.27</td></tr>\n",
       "\t<tr><td> 9988</td><td>1</td><td>0</td><td>0</td><td>0</td><td>0</td><td>1</td><td>0</td><td> 73.112</td><td> 94.35</td></tr>\n",
       "\t<tr><td> 9989</td><td>1</td><td>0</td><td>0</td><td>1</td><td>1</td><td>0</td><td>0</td><td> 78.982</td><td>110.10</td></tr>\n",
       "\t<tr><td> 9990</td><td>0</td><td>1</td><td>1</td><td>1</td><td>0</td><td>0</td><td>1</td><td> 79.131</td><td>119.27</td></tr>\n",
       "\t<tr><td> 9991</td><td>0</td><td>0</td><td>1</td><td>0</td><td>1</td><td>1</td><td>0</td><td> 79.278</td><td>116.91</td></tr>\n",
       "\t<tr><td> 9992</td><td>0</td><td>1</td><td>1</td><td>0</td><td>1</td><td>1</td><td>1</td><td> 89.938</td><td>130.80</td></tr>\n",
       "\t<tr><td> 9993</td><td>0</td><td>0</td><td>1</td><td>0</td><td>1</td><td>0</td><td>0</td><td> 60.834</td><td> 82.34</td></tr>\n",
       "\t<tr><td> 9994</td><td>1</td><td>1</td><td>1</td><td>0</td><td>1</td><td>1</td><td>0</td><td> 76.522</td><td>100.04</td></tr>\n",
       "\t<tr><td> 9995</td><td>1</td><td>1</td><td>0</td><td>0</td><td>1</td><td>0</td><td>1</td><td> 81.085</td><td>109.66</td></tr>\n",
       "\t<tr><td> 9996</td><td>1</td><td>0</td><td>0</td><td>1</td><td>0</td><td>1</td><td>0</td><td> 95.603</td><td>127.26</td></tr>\n",
       "\t<tr><td> 9997</td><td>1</td><td>1</td><td>1</td><td>0</td><td>1</td><td>0</td><td>1</td><td> 73.265</td><td> 90.07</td></tr>\n",
       "\t<tr><td> 9998</td><td>0</td><td>1</td><td>0</td><td>0</td><td>0</td><td>1</td><td>1</td><td> 86.173</td><td>123.64</td></tr>\n",
       "\t<tr><td> 9999</td><td>0</td><td>0</td><td>0</td><td>1</td><td>0</td><td>1</td><td>1</td><td>104.437</td><td>140.70</td></tr>\n",
       "\t<tr><td>10000</td><td>1</td><td>1</td><td>0</td><td>0</td><td>1</td><td>0</td><td>0</td><td> 73.104</td><td> 93.77</td></tr>\n",
       "</tbody>\n",
       "</table>\n"
      ],
      "text/latex": [
       "A tibble: 10000 × 10\n",
       "\\begin{tabular}{llllllllll}\n",
       " id & pp & reg\\_pais1 & reg\\_pais2 & reg\\_pais3 & reg\\_pais4 & reg\\_pais5 & reg\\_pais6 & obito\\_ant & obito\\\\\n",
       " <dbl> & <dbl> & <dbl> & <dbl> & <dbl> & <dbl> & <dbl> & <dbl> & <dbl> & <dbl>\\\\\n",
       "\\hline\n",
       "\t  1 & 0 & 1 & 1 & 0 & 1 & 0 & 1 &  71.734 & 105.92\\\\\n",
       "\t  2 & 0 & 1 & 0 & 0 & 0 & 0 & 1 &  86.913 & 124.93\\\\\n",
       "\t  3 & 0 & 0 & 1 & 0 & 1 & 1 & 0 &  72.985 & 106.93\\\\\n",
       "\t  4 & 1 & 0 & 0 & 1 & 1 & 1 & 0 &  91.888 & 116.64\\\\\n",
       "\t  5 & 0 & 0 & 0 & 0 & 0 & 0 & 0 &  62.233 &  93.01\\\\\n",
       "\t  6 & 0 & 1 & 1 & 0 & 0 & 0 & 1 &  76.610 & 104.03\\\\\n",
       "\t  7 & 1 & 0 & 1 & 1 & 0 & 1 & 1 &  89.615 & 116.68\\\\\n",
       "\t  8 & 1 & 0 & 0 & 1 & 0 & 0 & 0 &  69.145 &  87.43\\\\\n",
       "\t  9 & 1 & 0 & 0 & 0 & 1 & 1 & 1 & 119.291 & 151.06\\\\\n",
       "\t 10 & 0 & 1 & 1 & 0 & 0 & 0 & 0 &  51.623 &  87.68\\\\\n",
       "\t 11 & 1 & 0 & 1 & 0 & 1 & 1 & 0 &  71.812 &  92.30\\\\\n",
       "\t 12 & 0 & 1 & 1 & 0 & 1 & 0 & 1 &  82.960 & 126.15\\\\\n",
       "\t 13 & 1 & 1 & 0 & 1 & 1 & 0 & 1 &  90.168 & 111.88\\\\\n",
       "\t 14 & 0 & 1 & 0 & 1 & 1 & 1 & 1 & 112.927 & 153.28\\\\\n",
       "\t 15 & 0 & 0 & 1 & 1 & 1 & 0 & 0 &  82.871 & 120.15\\\\\n",
       "\t 16 & 0 & 1 & 1 & 0 & 1 & 0 & 0 &  59.274 &  84.37\\\\\n",
       "\t 17 & 1 & 0 & 0 & 1 & 0 & 0 & 1 &  86.826 & 117.95\\\\\n",
       "\t 18 & 1 & 0 & 1 & 0 & 1 & 0 & 0 &  70.322 &  88.11\\\\\n",
       "\t 19 & 0 & 0 & 0 & 1 & 0 & 0 & 1 &  86.552 & 130.88\\\\\n",
       "\t 20 & 1 & 0 & 1 & 1 & 0 & 0 & 0 &  64.999 &  83.99\\\\\n",
       "\t 21 & 1 & 0 & 0 & 0 & 1 & 1 & 1 & 108.051 & 129.17\\\\\n",
       "\t 22 & 0 & 1 & 1 & 0 & 0 & 0 & 1 &  64.561 &  91.58\\\\\n",
       "\t 23 & 0 & 1 & 0 & 0 & 0 & 1 & 0 &  65.319 & 100.57\\\\\n",
       "\t 24 & 1 & 0 & 0 & 0 & 0 & 0 & 0 &  71.629 &  98.25\\\\\n",
       "\t 25 & 0 & 0 & 1 & 0 & 0 & 1 & 1 &  90.292 & 131.27\\\\\n",
       "\t 26 & 0 & 0 & 0 & 0 & 0 & 1 & 0 &  79.192 & 116.45\\\\\n",
       "\t 27 & 1 & 0 & 0 & 1 & 1 & 1 & 1 & 120.250 & 146.30\\\\\n",
       "\t 28 & 1 & 1 & 1 & 0 & 1 & 1 & 1 &  90.049 & 112.55\\\\\n",
       "\t 29 & 1 & 0 & 1 & 0 & 0 & 0 & 0 &  49.095 &  57.36\\\\\n",
       "\t 30 & 0 & 0 & 1 & 1 & 1 & 0 & 1 &  86.956 & 128.91\\\\\n",
       "\t ⋮ & ⋮ & ⋮ & ⋮ & ⋮ & ⋮ & ⋮ & ⋮ & ⋮ & ⋮\\\\\n",
       "\t  9971 & 1 & 0 & 0 & 1 & 0 & 0 & 1 &  95.000 & 126.00\\\\\n",
       "\t  9972 & 1 & 1 & 1 & 0 & 1 & 1 & 1 &  97.060 & 119.07\\\\\n",
       "\t  9973 & 1 & 1 & 0 & 1 & 1 & 0 & 1 &  98.804 & 128.10\\\\\n",
       "\t  9974 & 1 & 0 & 0 & 1 & 0 & 1 & 0 &  85.892 & 109.49\\\\\n",
       "\t  9975 & 0 & 1 & 0 & 0 & 1 & 0 & 0 &  64.520 &  99.62\\\\\n",
       "\t  9976 & 0 & 0 & 0 & 1 & 1 & 0 & 1 &  94.898 & 133.36\\\\\n",
       "\t  9977 & 0 & 1 & 1 & 1 & 0 & 1 & 0 &  68.307 & 100.04\\\\\n",
       "\t  9978 & 1 & 0 & 0 & 1 & 0 & 1 & 0 &  81.556 &  98.42\\\\\n",
       "\t  9979 & 0 & 1 & 1 & 0 & 1 & 0 & 1 &  85.823 & 125.71\\\\\n",
       "\t  9980 & 0 & 0 & 0 & 0 & 0 & 1 & 1 & 106.790 & 149.55\\\\\n",
       "\t  9981 & 0 & 1 & 0 & 1 & 1 & 1 & 0 &  92.761 & 135.43\\\\\n",
       "\t  9982 & 0 & 0 & 1 & 0 & 1 & 0 & 1 &  93.215 & 131.01\\\\\n",
       "\t  9983 & 1 & 0 & 1 & 0 & 1 & 1 & 0 &  72.912 &  88.62\\\\\n",
       "\t  9984 & 1 & 0 & 1 & 0 & 0 & 0 & 1 &  81.101 & 106.33\\\\\n",
       "\t  9985 & 0 & 1 & 0 & 0 & 1 & 0 & 1 &  94.499 & 131.39\\\\\n",
       "\t  9986 & 0 & 0 & 1 & 0 & 0 & 0 & 1 &  79.198 & 121.02\\\\\n",
       "\t  9987 & 0 & 0 & 1 & 1 & 1 & 1 & 1 & 109.711 & 140.27\\\\\n",
       "\t  9988 & 1 & 0 & 0 & 0 & 0 & 1 & 0 &  73.112 &  94.35\\\\\n",
       "\t  9989 & 1 & 0 & 0 & 1 & 1 & 0 & 0 &  78.982 & 110.10\\\\\n",
       "\t  9990 & 0 & 1 & 1 & 1 & 0 & 0 & 1 &  79.131 & 119.27\\\\\n",
       "\t  9991 & 0 & 0 & 1 & 0 & 1 & 1 & 0 &  79.278 & 116.91\\\\\n",
       "\t  9992 & 0 & 1 & 1 & 0 & 1 & 1 & 1 &  89.938 & 130.80\\\\\n",
       "\t  9993 & 0 & 0 & 1 & 0 & 1 & 0 & 0 &  60.834 &  82.34\\\\\n",
       "\t  9994 & 1 & 1 & 1 & 0 & 1 & 1 & 0 &  76.522 & 100.04\\\\\n",
       "\t  9995 & 1 & 1 & 0 & 0 & 1 & 0 & 1 &  81.085 & 109.66\\\\\n",
       "\t  9996 & 1 & 0 & 0 & 1 & 0 & 1 & 0 &  95.603 & 127.26\\\\\n",
       "\t  9997 & 1 & 1 & 1 & 0 & 1 & 0 & 1 &  73.265 &  90.07\\\\\n",
       "\t  9998 & 0 & 1 & 0 & 0 & 0 & 1 & 1 &  86.173 & 123.64\\\\\n",
       "\t  9999 & 0 & 0 & 0 & 1 & 0 & 1 & 1 & 104.437 & 140.70\\\\\n",
       "\t 10000 & 1 & 1 & 0 & 0 & 1 & 0 & 0 &  73.104 &  93.77\\\\\n",
       "\\end{tabular}\n"
      ],
      "text/markdown": [
       "\n",
       "A tibble: 10000 × 10\n",
       "\n",
       "| id &lt;dbl&gt; | pp &lt;dbl&gt; | reg_pais1 &lt;dbl&gt; | reg_pais2 &lt;dbl&gt; | reg_pais3 &lt;dbl&gt; | reg_pais4 &lt;dbl&gt; | reg_pais5 &lt;dbl&gt; | reg_pais6 &lt;dbl&gt; | obito_ant &lt;dbl&gt; | obito &lt;dbl&gt; |\n",
       "|---|---|---|---|---|---|---|---|---|---|\n",
       "|  1 | 0 | 1 | 1 | 0 | 1 | 0 | 1 |  71.734 | 105.92 |\n",
       "|  2 | 0 | 1 | 0 | 0 | 0 | 0 | 1 |  86.913 | 124.93 |\n",
       "|  3 | 0 | 0 | 1 | 0 | 1 | 1 | 0 |  72.985 | 106.93 |\n",
       "|  4 | 1 | 0 | 0 | 1 | 1 | 1 | 0 |  91.888 | 116.64 |\n",
       "|  5 | 0 | 0 | 0 | 0 | 0 | 0 | 0 |  62.233 |  93.01 |\n",
       "|  6 | 0 | 1 | 1 | 0 | 0 | 0 | 1 |  76.610 | 104.03 |\n",
       "|  7 | 1 | 0 | 1 | 1 | 0 | 1 | 1 |  89.615 | 116.68 |\n",
       "|  8 | 1 | 0 | 0 | 1 | 0 | 0 | 0 |  69.145 |  87.43 |\n",
       "|  9 | 1 | 0 | 0 | 0 | 1 | 1 | 1 | 119.291 | 151.06 |\n",
       "| 10 | 0 | 1 | 1 | 0 | 0 | 0 | 0 |  51.623 |  87.68 |\n",
       "| 11 | 1 | 0 | 1 | 0 | 1 | 1 | 0 |  71.812 |  92.30 |\n",
       "| 12 | 0 | 1 | 1 | 0 | 1 | 0 | 1 |  82.960 | 126.15 |\n",
       "| 13 | 1 | 1 | 0 | 1 | 1 | 0 | 1 |  90.168 | 111.88 |\n",
       "| 14 | 0 | 1 | 0 | 1 | 1 | 1 | 1 | 112.927 | 153.28 |\n",
       "| 15 | 0 | 0 | 1 | 1 | 1 | 0 | 0 |  82.871 | 120.15 |\n",
       "| 16 | 0 | 1 | 1 | 0 | 1 | 0 | 0 |  59.274 |  84.37 |\n",
       "| 17 | 1 | 0 | 0 | 1 | 0 | 0 | 1 |  86.826 | 117.95 |\n",
       "| 18 | 1 | 0 | 1 | 0 | 1 | 0 | 0 |  70.322 |  88.11 |\n",
       "| 19 | 0 | 0 | 0 | 1 | 0 | 0 | 1 |  86.552 | 130.88 |\n",
       "| 20 | 1 | 0 | 1 | 1 | 0 | 0 | 0 |  64.999 |  83.99 |\n",
       "| 21 | 1 | 0 | 0 | 0 | 1 | 1 | 1 | 108.051 | 129.17 |\n",
       "| 22 | 0 | 1 | 1 | 0 | 0 | 0 | 1 |  64.561 |  91.58 |\n",
       "| 23 | 0 | 1 | 0 | 0 | 0 | 1 | 0 |  65.319 | 100.57 |\n",
       "| 24 | 1 | 0 | 0 | 0 | 0 | 0 | 0 |  71.629 |  98.25 |\n",
       "| 25 | 0 | 0 | 1 | 0 | 0 | 1 | 1 |  90.292 | 131.27 |\n",
       "| 26 | 0 | 0 | 0 | 0 | 0 | 1 | 0 |  79.192 | 116.45 |\n",
       "| 27 | 1 | 0 | 0 | 1 | 1 | 1 | 1 | 120.250 | 146.30 |\n",
       "| 28 | 1 | 1 | 1 | 0 | 1 | 1 | 1 |  90.049 | 112.55 |\n",
       "| 29 | 1 | 0 | 1 | 0 | 0 | 0 | 0 |  49.095 |  57.36 |\n",
       "| 30 | 0 | 0 | 1 | 1 | 1 | 0 | 1 |  86.956 | 128.91 |\n",
       "| ⋮ | ⋮ | ⋮ | ⋮ | ⋮ | ⋮ | ⋮ | ⋮ | ⋮ | ⋮ |\n",
       "|  9971 | 1 | 0 | 0 | 1 | 0 | 0 | 1 |  95.000 | 126.00 |\n",
       "|  9972 | 1 | 1 | 1 | 0 | 1 | 1 | 1 |  97.060 | 119.07 |\n",
       "|  9973 | 1 | 1 | 0 | 1 | 1 | 0 | 1 |  98.804 | 128.10 |\n",
       "|  9974 | 1 | 0 | 0 | 1 | 0 | 1 | 0 |  85.892 | 109.49 |\n",
       "|  9975 | 0 | 1 | 0 | 0 | 1 | 0 | 0 |  64.520 |  99.62 |\n",
       "|  9976 | 0 | 0 | 0 | 1 | 1 | 0 | 1 |  94.898 | 133.36 |\n",
       "|  9977 | 0 | 1 | 1 | 1 | 0 | 1 | 0 |  68.307 | 100.04 |\n",
       "|  9978 | 1 | 0 | 0 | 1 | 0 | 1 | 0 |  81.556 |  98.42 |\n",
       "|  9979 | 0 | 1 | 1 | 0 | 1 | 0 | 1 |  85.823 | 125.71 |\n",
       "|  9980 | 0 | 0 | 0 | 0 | 0 | 1 | 1 | 106.790 | 149.55 |\n",
       "|  9981 | 0 | 1 | 0 | 1 | 1 | 1 | 0 |  92.761 | 135.43 |\n",
       "|  9982 | 0 | 0 | 1 | 0 | 1 | 0 | 1 |  93.215 | 131.01 |\n",
       "|  9983 | 1 | 0 | 1 | 0 | 1 | 1 | 0 |  72.912 |  88.62 |\n",
       "|  9984 | 1 | 0 | 1 | 0 | 0 | 0 | 1 |  81.101 | 106.33 |\n",
       "|  9985 | 0 | 1 | 0 | 0 | 1 | 0 | 1 |  94.499 | 131.39 |\n",
       "|  9986 | 0 | 0 | 1 | 0 | 0 | 0 | 1 |  79.198 | 121.02 |\n",
       "|  9987 | 0 | 0 | 1 | 1 | 1 | 1 | 1 | 109.711 | 140.27 |\n",
       "|  9988 | 1 | 0 | 0 | 0 | 0 | 1 | 0 |  73.112 |  94.35 |\n",
       "|  9989 | 1 | 0 | 0 | 1 | 1 | 0 | 0 |  78.982 | 110.10 |\n",
       "|  9990 | 0 | 1 | 1 | 1 | 0 | 0 | 1 |  79.131 | 119.27 |\n",
       "|  9991 | 0 | 0 | 1 | 0 | 1 | 1 | 0 |  79.278 | 116.91 |\n",
       "|  9992 | 0 | 1 | 1 | 0 | 1 | 1 | 1 |  89.938 | 130.80 |\n",
       "|  9993 | 0 | 0 | 1 | 0 | 1 | 0 | 0 |  60.834 |  82.34 |\n",
       "|  9994 | 1 | 1 | 1 | 0 | 1 | 1 | 0 |  76.522 | 100.04 |\n",
       "|  9995 | 1 | 1 | 0 | 0 | 1 | 0 | 1 |  81.085 | 109.66 |\n",
       "|  9996 | 1 | 0 | 0 | 1 | 0 | 1 | 0 |  95.603 | 127.26 |\n",
       "|  9997 | 1 | 1 | 1 | 0 | 1 | 0 | 1 |  73.265 |  90.07 |\n",
       "|  9998 | 0 | 1 | 0 | 0 | 0 | 1 | 1 |  86.173 | 123.64 |\n",
       "|  9999 | 0 | 0 | 0 | 1 | 0 | 1 | 1 | 104.437 | 140.70 |\n",
       "| 10000 | 1 | 1 | 0 | 0 | 1 | 0 | 0 |  73.104 |  93.77 |\n",
       "\n"
      ],
      "text/plain": [
       "      id    pp reg_pais1 reg_pais2 reg_pais3 reg_pais4 reg_pais5 reg_pais6\n",
       "1      1    0  1         1         0         1         0         1        \n",
       "2      2    0  1         0         0         0         0         1        \n",
       "3      3    0  0         1         0         1         1         0        \n",
       "4      4    1  0         0         1         1         1         0        \n",
       "5      5    0  0         0         0         0         0         0        \n",
       "6      6    0  1         1         0         0         0         1        \n",
       "7      7    1  0         1         1         0         1         1        \n",
       "8      8    1  0         0         1         0         0         0        \n",
       "9      9    1  0         0         0         1         1         1        \n",
       "10    10    0  1         1         0         0         0         0        \n",
       "11    11    1  0         1         0         1         1         0        \n",
       "12    12    0  1         1         0         1         0         1        \n",
       "13    13    1  1         0         1         1         0         1        \n",
       "14    14    0  1         0         1         1         1         1        \n",
       "15    15    0  0         1         1         1         0         0        \n",
       "16    16    0  1         1         0         1         0         0        \n",
       "17    17    1  0         0         1         0         0         1        \n",
       "18    18    1  0         1         0         1         0         0        \n",
       "19    19    0  0         0         1         0         0         1        \n",
       "20    20    1  0         1         1         0         0         0        \n",
       "21    21    1  0         0         0         1         1         1        \n",
       "22    22    0  1         1         0         0         0         1        \n",
       "23    23    0  1         0         0         0         1         0        \n",
       "24    24    1  0         0         0         0         0         0        \n",
       "25    25    0  0         1         0         0         1         1        \n",
       "26    26    0  0         0         0         0         1         0        \n",
       "27    27    1  0         0         1         1         1         1        \n",
       "28    28    1  1         1         0         1         1         1        \n",
       "29    29    1  0         1         0         0         0         0        \n",
       "30    30    0  0         1         1         1         0         1        \n",
       "⋮     ⋮     ⋮  ⋮         ⋮         ⋮         ⋮         ⋮         ⋮        \n",
       "9971   9971 1  0         0         1         0         0         1        \n",
       "9972   9972 1  1         1         0         1         1         1        \n",
       "9973   9973 1  1         0         1         1         0         1        \n",
       "9974   9974 1  0         0         1         0         1         0        \n",
       "9975   9975 0  1         0         0         1         0         0        \n",
       "9976   9976 0  0         0         1         1         0         1        \n",
       "9977   9977 0  1         1         1         0         1         0        \n",
       "9978   9978 1  0         0         1         0         1         0        \n",
       "9979   9979 0  1         1         0         1         0         1        \n",
       "9980   9980 0  0         0         0         0         1         1        \n",
       "9981   9981 0  1         0         1         1         1         0        \n",
       "9982   9982 0  0         1         0         1         0         1        \n",
       "9983   9983 1  0         1         0         1         1         0        \n",
       "9984   9984 1  0         1         0         0         0         1        \n",
       "9985   9985 0  1         0         0         1         0         1        \n",
       "9986   9986 0  0         1         0         0         0         1        \n",
       "9987   9987 0  0         1         1         1         1         1        \n",
       "9988   9988 1  0         0         0         0         1         0        \n",
       "9989   9989 1  0         0         1         1         0         0        \n",
       "9990   9990 0  1         1         1         0         0         1        \n",
       "9991   9991 0  0         1         0         1         1         0        \n",
       "9992   9992 0  1         1         0         1         1         1        \n",
       "9993   9993 0  0         1         0         1         0         0        \n",
       "9994   9994 1  1         1         0         1         1         0        \n",
       "9995   9995 1  1         0         0         1         0         1        \n",
       "9996   9996 1  0         0         1         0         1         0        \n",
       "9997   9997 1  1         1         0         1         0         1        \n",
       "9998   9998 0  1         0         0         0         1         1        \n",
       "9999   9999 0  0         0         1         0         1         1        \n",
       "10000 10000 1  1         0         0         1         0         0        \n",
       "      obito_ant obito \n",
       "1      71.734   105.92\n",
       "2      86.913   124.93\n",
       "3      72.985   106.93\n",
       "4      91.888   116.64\n",
       "5      62.233    93.01\n",
       "6      76.610   104.03\n",
       "7      89.615   116.68\n",
       "8      69.145    87.43\n",
       "9     119.291   151.06\n",
       "10     51.623    87.68\n",
       "11     71.812    92.30\n",
       "12     82.960   126.15\n",
       "13     90.168   111.88\n",
       "14    112.927   153.28\n",
       "15     82.871   120.15\n",
       "16     59.274    84.37\n",
       "17     86.826   117.95\n",
       "18     70.322    88.11\n",
       "19     86.552   130.88\n",
       "20     64.999    83.99\n",
       "21    108.051   129.17\n",
       "22     64.561    91.58\n",
       "23     65.319   100.57\n",
       "24     71.629    98.25\n",
       "25     90.292   131.27\n",
       "26     79.192   116.45\n",
       "27    120.250   146.30\n",
       "28     90.049   112.55\n",
       "29     49.095    57.36\n",
       "30     86.956   128.91\n",
       "⋮     ⋮         ⋮     \n",
       "9971   95.000   126.00\n",
       "9972   97.060   119.07\n",
       "9973   98.804   128.10\n",
       "9974   85.892   109.49\n",
       "9975   64.520    99.62\n",
       "9976   94.898   133.36\n",
       "9977   68.307   100.04\n",
       "9978   81.556    98.42\n",
       "9979   85.823   125.71\n",
       "9980  106.790   149.55\n",
       "9981   92.761   135.43\n",
       "9982   93.215   131.01\n",
       "9983   72.912    88.62\n",
       "9984   81.101   106.33\n",
       "9985   94.499   131.39\n",
       "9986   79.198   121.02\n",
       "9987  109.711   140.27\n",
       "9988   73.112    94.35\n",
       "9989   78.982   110.10\n",
       "9990   79.131   119.27\n",
       "9991   79.278   116.91\n",
       "9992   89.938   130.80\n",
       "9993   60.834    82.34\n",
       "9994   76.522   100.04\n",
       "9995   81.085   109.66\n",
       "9996   95.603   127.26\n",
       "9997   73.265    90.07\n",
       "9998   86.173   123.64\n",
       "9999  104.437   140.70\n",
       "10000  73.104    93.77"
      ]
     },
     "metadata": {},
     "output_type": "display_data"
    }
   ],
   "source": [
    "caso_3 <- read_excel(\"/home/gustavo/Projeto de Dados/Análise_R/AP2/Caso_3/Caso_3.xlsx\")\n",
    "caso_3"
   ]
  },
  {
   "cell_type": "markdown",
   "id": "f519e2cb",
   "metadata": {},
   "source": [
    "############################### Letra A ########################################\n",
    "# Indicação de desenho adequado para a identificação do efeito da PP"
   ]
  },
  {
   "cell_type": "code",
   "execution_count": 17,
   "id": "afe7c31c",
   "metadata": {},
   "outputs": [
    {
     "data": {
      "text/plain": [
       "\n",
       "Call:\n",
       "lm(formula = obito_ant ~ obito, data = caso_3)\n",
       "\n",
       "Residuals:\n",
       "     Min       1Q   Median       3Q      Max \n",
       "-19.3484  -5.1872   0.0681   5.2862  18.6784 \n",
       "\n",
       "Coefficients:\n",
       "            Estimate Std. Error t value Pr(>|t|)    \n",
       "(Intercept) 6.530835   0.362921    18.0   <2e-16 ***\n",
       "obito       0.682901   0.003172   215.3   <2e-16 ***\n",
       "---\n",
       "Signif. codes:  0 ‘***’ 0.001 ‘**’ 0.01 ‘*’ 0.05 ‘.’ 0.1 ‘ ’ 1\n",
       "\n",
       "Residual standard error: 6.768 on 9998 degrees of freedom\n",
       "Multiple R-squared:  0.8225,\tAdjusted R-squared:  0.8225 \n",
       "F-statistic: 4.634e+04 on 1 and 9998 DF,  p-value: < 2.2e-16\n"
      ]
     },
     "metadata": {},
     "output_type": "display_data"
    }
   ],
   "source": [
    "## Efeito de Politica por obito\n",
    "epo = lm(obito_ant ~ obito, data = caso_3)\n",
    "summary(epo)"
   ]
  },
  {
   "cell_type": "markdown",
   "id": "21636e44",
   "metadata": {},
   "source": [
    "## Variável ficticia do efeito PP por obito"
   ]
  },
  {
   "cell_type": "code",
   "execution_count": 18,
   "id": "4503ff16",
   "metadata": {},
   "outputs": [
    {
     "data": {
      "text/plain": [
       "\n",
       "Call:\n",
       "lm(formula = obito_ant ~ obito + factor(pp), data = caso_3)\n",
       "\n",
       "Residuals:\n",
       "     Min       1Q   Median       3Q      Max \n",
       "-14.4019  -2.6889   0.0327   2.7095  13.8919 \n",
       "\n",
       "Coefficients:\n",
       "             Estimate Std. Error t value Pr(>|t|)    \n",
       "(Intercept) -9.736278   0.242220   -40.2   <2e-16 ***\n",
       "obito        0.775202   0.001969   393.7   <2e-16 ***\n",
       "factor(pp)1 11.669605   0.084010   138.9   <2e-16 ***\n",
       "---\n",
       "Signif. codes:  0 ‘***’ 0.001 ‘**’ 0.01 ‘*’ 0.05 ‘.’ 0.1 ‘ ’ 1\n",
       "\n",
       "Residual standard error: 3.954 on 9997 degrees of freedom\n",
       "Multiple R-squared:  0.9394,\tAdjusted R-squared:  0.9394 \n",
       "F-statistic: 7.753e+04 on 2 and 9997 DF,  p-value: < 2.2e-16\n"
      ]
     },
     "metadata": {},
     "output_type": "display_data"
    }
   ],
   "source": [
    "vf = lm(obito_ant ~ obito + factor(pp), data = caso_3)\n",
    "summary(vf)"
   ]
  },
  {
   "cell_type": "markdown",
   "id": "f7fd9c85",
   "metadata": {},
   "source": [
    "## Dentro do estimator de reg_pais1 para pp"
   ]
  },
  {
   "cell_type": "code",
   "execution_count": 19,
   "id": "dde367ad",
   "metadata": {},
   "outputs": [
    {
     "data": {
      "text/plain": [
       "Oneway (individual) effect Within Model\n",
       "\n",
       "Call:\n",
       "plm(formula = obito ~ obito_ant + factor(reg_pais1), data = caso_3, \n",
       "    model = \"within\", index = \"pp\")\n",
       "\n",
       "Unbalanced Panel: n = 2, T = 4950-5050, N = 10000\n",
       "\n",
       "Residuals:\n",
       "      Min.    1st Qu.     Median    3rd Qu.       Max. \n",
       "-17.121008  -3.409328  -0.065272   3.375048  17.993646 \n",
       "\n",
       "Coefficients:\n",
       "                    Estimate Std. Error  t-value Pr(>|t|)    \n",
       "obito_ant          1.2131205  0.0031868 380.6667   <2e-16 ***\n",
       "factor(reg_pais1)1 0.1590436  0.1023821   1.5534   0.1204    \n",
       "---\n",
       "Signif. codes:  0 ‘***’ 0.001 ‘**’ 0.01 ‘*’ 0.05 ‘.’ 0.1 ‘ ’ 1\n",
       "\n",
       "Total Sum of Squares:    4032700\n",
       "Residual Sum of Squares: 244250\n",
       "R-Squared:      0.93943\n",
       "Adj. R-Squared: 0.93941\n",
       "F-statistic: 77520.4 on 2 and 9996 DF, p-value: < 2.22e-16"
      ]
     },
     "metadata": {},
     "output_type": "display_data"
    }
   ],
   "source": [
    "## Estimator região_pais 1 \n",
    "dentro_estimador1 = plm(obito ~ obito_ant + factor(reg_pais1), index = \"pp\", model = \"within\", data = caso_3) \n",
    "summary(dentro_estimador1)"
   ]
  },
  {
   "cell_type": "code",
   "execution_count": 20,
   "id": "dcdf2713",
   "metadata": {},
   "outputs": [
    {
     "data": {
      "text/plain": [
       "Oneway (individual) effect Within Model\n",
       "\n",
       "Call:\n",
       "plm(formula = obito ~ obito_ant + factor(reg_pais2), data = caso_3, \n",
       "    model = \"within\", index = \"pp\")\n",
       "\n",
       "Unbalanced Panel: n = 2, T = 4950-5050, N = 10000\n",
       "\n",
       "Residuals:\n",
       "      Min.    1st Qu.     Median    3rd Qu.       Max. \n",
       "-17.280159  -3.400739  -0.063592   3.378367  17.988399 \n",
       "\n",
       "Coefficients:\n",
       "                    Estimate Std. Error  t-value Pr(>|t|)    \n",
       "obito_ant          1.2135498  0.0032444 374.0404  < 2e-16 ***\n",
       "factor(reg_pais2)1 0.1739326  0.1042232   1.6688  0.09518 .  \n",
       "---\n",
       "Signif. codes:  0 ‘***’ 0.001 ‘**’ 0.01 ‘*’ 0.05 ‘.’ 0.1 ‘ ’ 1\n",
       "\n",
       "Total Sum of Squares:    4032700\n",
       "Residual Sum of Squares: 244240\n",
       "R-Squared:      0.93943\n",
       "Adj. R-Squared: 0.93942\n",
       "F-statistic: 77523.5 on 2 and 9996 DF, p-value: < 2.22e-16"
      ]
     },
     "metadata": {},
     "output_type": "display_data"
    }
   ],
   "source": [
    "## Estimator região_pais 2 \n",
    "dentro_estimador2 = plm(obito ~ obito_ant + factor(reg_pais2), index = \"pp\", model = \"within\", data = caso_3) \n",
    "summary(dentro_estimador2)"
   ]
  },
  {
   "cell_type": "code",
   "execution_count": 21,
   "id": "0cf2e743",
   "metadata": {},
   "outputs": [
    {
     "data": {
      "text/plain": [
       "Oneway (individual) effect Within Model\n",
       "\n",
       "Call:\n",
       "plm(formula = obito ~ obito_ant + factor(reg_pais3), data = caso_3, \n",
       "    model = \"within\", index = \"pp\")\n",
       "\n",
       "Unbalanced Panel: n = 2, T = 4950-5050, N = 10000\n",
       "\n",
       "Residuals:\n",
       "      Min.    1st Qu.     Median    3rd Qu.       Max. \n",
       "-17.239052  -3.408093  -0.056618   3.378953  18.037962 \n",
       "\n",
       "Coefficients:\n",
       "                     Estimate Std. Error  t-value Pr(>|t|)    \n",
       "obito_ant           1.2121125  0.0031164 388.9427   <2e-16 ***\n",
       "factor(reg_pais3)1 -0.0567572  0.1001220  -0.5669   0.5708    \n",
       "---\n",
       "Signif. codes:  0 ‘***’ 0.001 ‘**’ 0.01 ‘*’ 0.05 ‘.’ 0.1 ‘ ’ 1\n",
       "\n",
       "Total Sum of Squares:    4032700\n",
       "Residual Sum of Squares: 244300\n",
       "R-Squared:      0.93942\n",
       "Adj. R-Squared: 0.9394\n",
       "F-statistic: 77503.2 on 2 and 9996 DF, p-value: < 2.22e-16"
      ]
     },
     "metadata": {},
     "output_type": "display_data"
    }
   ],
   "source": [
    "## Estimator região_pais 3\n",
    "dentro_estimador3 = plm(obito ~ obito_ant + factor(reg_pais3), index = \"pp\", model = \"within\", data = caso_3) \n",
    "summary(dentro_estimador3)"
   ]
  },
  {
   "cell_type": "code",
   "execution_count": 22,
   "id": "edad8267",
   "metadata": {},
   "outputs": [
    {
     "data": {
      "text/plain": [
       "Oneway (individual) effect Within Model\n",
       "\n",
       "Call:\n",
       "plm(formula = obito ~ obito_ant + factor(reg_pais4), data = caso_3, \n",
       "    model = \"within\", index = \"pp\")\n",
       "\n",
       "Unbalanced Panel: n = 2, T = 4950-5050, N = 10000\n",
       "\n",
       "Residuals:\n",
       "      Min.    1st Qu.     Median    3rd Qu.       Max. \n",
       "-17.163242  -3.409169  -0.062662   3.376716  18.111395 \n",
       "\n",
       "Coefficients:\n",
       "                     Estimate Std. Error  t-value Pr(>|t|)    \n",
       "obito_ant           1.2126543  0.0032454 373.6537   <2e-16 ***\n",
       "factor(reg_pais4)1 -0.0829162  0.1042590  -0.7953   0.4265    \n",
       "---\n",
       "Signif. codes:  0 ‘***’ 0.001 ‘**’ 0.01 ‘*’ 0.05 ‘.’ 0.1 ‘ ’ 1\n",
       "\n",
       "Total Sum of Squares:    4032700\n",
       "Residual Sum of Squares: 244300\n",
       "R-Squared:      0.93942\n",
       "Adj. R-Squared: 0.9394\n",
       "F-statistic: 77505.7 on 2 and 9996 DF, p-value: < 2.22e-16"
      ]
     },
     "metadata": {},
     "output_type": "display_data"
    }
   ],
   "source": [
    "## Estimator região_pais 4\n",
    "dentro_estimador4 = plm(obito ~ obito_ant + factor(reg_pais4), index = \"pp\", model = \"within\", data = caso_3) \n",
    "summary(dentro_estimador4)"
   ]
  },
  {
   "cell_type": "code",
   "execution_count": 23,
   "id": "38d49afc",
   "metadata": {},
   "outputs": [
    {
     "data": {
      "text/plain": [
       "Oneway (individual) effect Within Model\n",
       "\n",
       "Call:\n",
       "plm(formula = obito ~ obito_ant + factor(reg_pais5), data = caso_3, \n",
       "    model = \"within\", index = \"pp\")\n",
       "\n",
       "Unbalanced Panel: n = 2, T = 4950-5050, N = 10000\n",
       "\n",
       "Residuals:\n",
       "      Min.    1st Qu.     Median    3rd Qu.       Max. \n",
       "-17.229591  -3.406834  -0.055705   3.371548  18.045403 \n",
       "\n",
       "Coefficients:\n",
       "                     Estimate Std. Error  t-value Pr(>|t|)    \n",
       "obito_ant           1.2125073  0.0034612 350.3095   <2e-16 ***\n",
       "factor(reg_pais5)1 -0.0471539  0.1111949  -0.4241   0.6715    \n",
       "---\n",
       "Signif. codes:  0 ‘***’ 0.001 ‘**’ 0.01 ‘*’ 0.05 ‘.’ 0.1 ‘ ’ 1\n",
       "\n",
       "Total Sum of Squares:    4032700\n",
       "Residual Sum of Squares: 244310\n",
       "R-Squared:      0.93942\n",
       "Adj. R-Squared: 0.9394\n",
       "F-statistic: 77502 on 2 and 9996 DF, p-value: < 2.22e-16"
      ]
     },
     "metadata": {},
     "output_type": "display_data"
    }
   ],
   "source": [
    "## Estimator região_pais 5\n",
    "dentro_estimador5 = plm(obito ~ obito_ant + factor(reg_pais5), index = \"pp\", model = \"within\", data = caso_3) \n",
    "summary(dentro_estimador5)"
   ]
  },
  {
   "cell_type": "code",
   "execution_count": 24,
   "id": "6bcdf331",
   "metadata": {},
   "outputs": [
    {
     "data": {
      "text/plain": [
       "Oneway (individual) effect Within Model\n",
       "\n",
       "Call:\n",
       "plm(formula = obito ~ obito_ant + factor(reg_pais6), data = caso_3, \n",
       "    model = \"within\", index = \"pp\")\n",
       "\n",
       "Unbalanced Panel: n = 2, T = 4950-5050, N = 10000\n",
       "\n",
       "Residuals:\n",
       "      Min.    1st Qu.     Median    3rd Qu.       Max. \n",
       "-17.345400  -3.416528  -0.052024   3.364239  18.332786 \n",
       "\n",
       "Coefficients:\n",
       "                     Estimate Std. Error  t-value  Pr(>|t|)    \n",
       "obito_ant           1.2201849  0.0039053 312.4400 < 2.2e-16 ***\n",
       "factor(reg_pais6)1 -0.4354900  0.1254976  -3.4701 0.0005224 ***\n",
       "---\n",
       "Signif. codes:  0 ‘***’ 0.001 ‘**’ 0.01 ‘*’ 0.05 ‘.’ 0.1 ‘ ’ 1\n",
       "\n",
       "Total Sum of Squares:    4032700\n",
       "Residual Sum of Squares: 244020\n",
       "R-Squared:      0.93949\n",
       "Adj. R-Squared: 0.93947\n",
       "F-statistic: 77599.9 on 2 and 9996 DF, p-value: < 2.22e-16"
      ]
     },
     "metadata": {},
     "output_type": "display_data"
    }
   ],
   "source": [
    "## Estimator região_pais 6\n",
    "dentro_estimador6 = plm(obito ~ obito_ant + factor(reg_pais6), index = \"pp\", model = \"within\", data = caso_3) \n",
    "summary(dentro_estimador6)"
   ]
  },
  {
   "cell_type": "markdown",
   "id": "2b2750b3",
   "metadata": {},
   "source": [
    "######################### Letra B ##############################################\n",
    "\n",
    "## Tabela de Balançeamento por estimação dos obitos e pop (Comparação entre pp e regiões)"
   ]
  },
  {
   "cell_type": "code",
   "execution_count": 25,
   "id": "89122fc6",
   "metadata": {},
   "outputs": [],
   "source": [
    "## pp\n",
    "sumtable(caso_3, group = 'pp', group.test = TRUE)"
   ]
  },
  {
   "cell_type": "code",
   "execution_count": 26,
   "id": "4922f248",
   "metadata": {},
   "outputs": [],
   "source": [
    "## reg_pais1\n",
    "sumtable(caso_3, group = 'reg_pais1', group.test = TRUE)"
   ]
  },
  {
   "cell_type": "code",
   "execution_count": 27,
   "id": "3a1e52c9",
   "metadata": {},
   "outputs": [],
   "source": [
    "## reg_pais2\n",
    "sumtable(caso_3, group = 'reg_pais2', group.test = TRUE)"
   ]
  },
  {
   "cell_type": "code",
   "execution_count": 28,
   "id": "5858a742",
   "metadata": {},
   "outputs": [],
   "source": [
    "## reg_pais3\n",
    "sumtable(caso_3, group = 'reg_pais3', group.test = TRUE)"
   ]
  },
  {
   "cell_type": "code",
   "execution_count": 29,
   "id": "3b4c20f8",
   "metadata": {},
   "outputs": [],
   "source": [
    "## reg_pais4\n",
    "sumtable(caso_3, group = 'reg_pais4', group.test = TRUE)"
   ]
  },
  {
   "cell_type": "code",
   "execution_count": 30,
   "id": "9a6e516a",
   "metadata": {},
   "outputs": [],
   "source": [
    "## reg_pais5\n",
    "sumtable(caso_3, group = 'reg_pais5', group.test = TRUE)"
   ]
  },
  {
   "cell_type": "code",
   "execution_count": 31,
   "id": "520d7855",
   "metadata": {},
   "outputs": [],
   "source": [
    "## reg_pais6\n",
    "sumtable(caso_3, group = 'reg_pais6', group.test = TRUE)"
   ]
  },
  {
   "cell_type": "markdown",
   "id": "14bcbb6b",
   "metadata": {},
   "source": [
    "################################# Letra C #####################################\n",
    "\n",
    "##  Matching, apresentar a tabela de balanceamento antes e depois do pareamento"
   ]
  },
  {
   "cell_type": "markdown",
   "id": "a5224d2b",
   "metadata": {},
   "source": [
    "## Indice de desempenho das pp por obito  "
   ]
  },
  {
   "cell_type": "code",
   "execution_count": 32,
   "id": "bec6c21c",
   "metadata": {},
   "outputs": [
    {
     "data": {
      "text/html": [
       "<table class=\"dataframe\">\n",
       "<caption>A tibble: 2 × 5</caption>\n",
       "<thead>\n",
       "\t<tr><th scope=col>pp</th><th scope=col>obito</th><th scope=col>media_obito</th><th scope=col>desvio_obito</th><th scope=col>variância</th></tr>\n",
       "\t<tr><th scope=col>&lt;dbl&gt;</th><th scope=col>&lt;int&gt;</th><th scope=col>&lt;dbl&gt;</th><th scope=col>&lt;dbl&gt;</th><th scope=col>&lt;dbl&gt;</th></tr>\n",
       "</thead>\n",
       "<tbody>\n",
       "\t<tr><td>0</td><td>4950</td><td>83.02845</td><td>16.10881</td><td>259.4939</td></tr>\n",
       "\t<tr><td>1</td><td>5050</td><td>83.53513</td><td>16.01798</td><td>256.5756</td></tr>\n",
       "</tbody>\n",
       "</table>\n"
      ],
      "text/latex": [
       "A tibble: 2 × 5\n",
       "\\begin{tabular}{lllll}\n",
       " pp & obito & media\\_obito & desvio\\_obito & variância\\\\\n",
       " <dbl> & <int> & <dbl> & <dbl> & <dbl>\\\\\n",
       "\\hline\n",
       "\t 0 & 4950 & 83.02845 & 16.10881 & 259.4939\\\\\n",
       "\t 1 & 5050 & 83.53513 & 16.01798 & 256.5756\\\\\n",
       "\\end{tabular}\n"
      ],
      "text/markdown": [
       "\n",
       "A tibble: 2 × 5\n",
       "\n",
       "| pp &lt;dbl&gt; | obito &lt;int&gt; | media_obito &lt;dbl&gt; | desvio_obito &lt;dbl&gt; | variância &lt;dbl&gt; |\n",
       "|---|---|---|---|---|\n",
       "| 0 | 4950 | 83.02845 | 16.10881 | 259.4939 |\n",
       "| 1 | 5050 | 83.53513 | 16.01798 | 256.5756 |\n",
       "\n"
      ],
      "text/plain": [
       "  pp obito media_obito desvio_obito variância\n",
       "1 0  4950  83.02845    16.10881     259.4939 \n",
       "2 1  5050  83.53513    16.01798     256.5756 "
      ]
     },
     "metadata": {},
     "output_type": "display_data"
    }
   ],
   "source": [
    "caso_3 %>% \n",
    "  group_by(pp) %>% \n",
    "  summarise(obito = n(),\n",
    "            media_obito = mean(obito_ant), \n",
    "            desvio_obito = sd(obito_ant), \n",
    "            variância = var(obito_ant))"
   ]
  },
  {
   "cell_type": "markdown",
   "id": "3d5ff860",
   "metadata": {},
   "source": [
    "## Indice de desempenho das regiões 1 por obito  "
   ]
  },
  {
   "cell_type": "code",
   "execution_count": 33,
   "id": "d2e24bcf",
   "metadata": {},
   "outputs": [
    {
     "data": {
      "text/html": [
       "<table class=\"dataframe\">\n",
       "<caption>A tibble: 2 × 5</caption>\n",
       "<thead>\n",
       "\t<tr><th scope=col>reg_pais1</th><th scope=col>obito</th><th scope=col>media_obito</th><th scope=col>desvio_obito</th><th scope=col>variância</th></tr>\n",
       "\t<tr><th scope=col>&lt;dbl&gt;</th><th scope=col>&lt;int&gt;</th><th scope=col>&lt;dbl&gt;</th><th scope=col>&lt;dbl&gt;</th><th scope=col>&lt;dbl&gt;</th></tr>\n",
       "</thead>\n",
       "<tbody>\n",
       "\t<tr><td>0</td><td>5039</td><td>87.42239</td><td>15.71357</td><td>246.9163</td></tr>\n",
       "\t<tr><td>1</td><td>4961</td><td>79.08119</td><td>15.30888</td><td>234.3619</td></tr>\n",
       "</tbody>\n",
       "</table>\n"
      ],
      "text/latex": [
       "A tibble: 2 × 5\n",
       "\\begin{tabular}{lllll}\n",
       " reg\\_pais1 & obito & media\\_obito & desvio\\_obito & variância\\\\\n",
       " <dbl> & <int> & <dbl> & <dbl> & <dbl>\\\\\n",
       "\\hline\n",
       "\t 0 & 5039 & 87.42239 & 15.71357 & 246.9163\\\\\n",
       "\t 1 & 4961 & 79.08119 & 15.30888 & 234.3619\\\\\n",
       "\\end{tabular}\n"
      ],
      "text/markdown": [
       "\n",
       "A tibble: 2 × 5\n",
       "\n",
       "| reg_pais1 &lt;dbl&gt; | obito &lt;int&gt; | media_obito &lt;dbl&gt; | desvio_obito &lt;dbl&gt; | variância &lt;dbl&gt; |\n",
       "|---|---|---|---|---|\n",
       "| 0 | 5039 | 87.42239 | 15.71357 | 246.9163 |\n",
       "| 1 | 4961 | 79.08119 | 15.30888 | 234.3619 |\n",
       "\n"
      ],
      "text/plain": [
       "  reg_pais1 obito media_obito desvio_obito variância\n",
       "1 0         5039  87.42239    15.71357     246.9163 \n",
       "2 1         4961  79.08119    15.30888     234.3619 "
      ]
     },
     "metadata": {},
     "output_type": "display_data"
    }
   ],
   "source": [
    "caso_3 %>% \n",
    "  group_by(reg_pais1) %>% \n",
    "  summarise(obito = n(),\n",
    "            media_obito = mean(obito_ant), \n",
    "            desvio_obito = sd(obito_ant),\n",
    "            variância = var(obito_ant))"
   ]
  },
  {
   "cell_type": "markdown",
   "id": "2f63e62e",
   "metadata": {},
   "source": [
    "## Indice de desempenho das regiões 2 por obito\n"
   ]
  },
  {
   "cell_type": "code",
   "execution_count": 34,
   "id": "ea467047",
   "metadata": {},
   "outputs": [
    {
     "data": {
      "text/html": [
       "<table class=\"dataframe\">\n",
       "<caption>A tibble: 2 × 5</caption>\n",
       "<thead>\n",
       "\t<tr><th scope=col>reg_pais2</th><th scope=col>obito</th><th scope=col>media_obito</th><th scope=col>desvio_obito</th><th scope=col>variância</th></tr>\n",
       "\t<tr><th scope=col>&lt;dbl&gt;</th><th scope=col>&lt;int&gt;</th><th scope=col>&lt;dbl&gt;</th><th scope=col>&lt;dbl&gt;</th><th scope=col>&lt;dbl&gt;</th></tr>\n",
       "</thead>\n",
       "<tbody>\n",
       "\t<tr><td>0</td><td>4979</td><td>88.38776</td><td>15.31675</td><td>234.6029</td></tr>\n",
       "\t<tr><td>1</td><td>5021</td><td>78.22357</td><td>15.16313</td><td>229.9206</td></tr>\n",
       "</tbody>\n",
       "</table>\n"
      ],
      "text/latex": [
       "A tibble: 2 × 5\n",
       "\\begin{tabular}{lllll}\n",
       " reg\\_pais2 & obito & media\\_obito & desvio\\_obito & variância\\\\\n",
       " <dbl> & <int> & <dbl> & <dbl> & <dbl>\\\\\n",
       "\\hline\n",
       "\t 0 & 4979 & 88.38776 & 15.31675 & 234.6029\\\\\n",
       "\t 1 & 5021 & 78.22357 & 15.16313 & 229.9206\\\\\n",
       "\\end{tabular}\n"
      ],
      "text/markdown": [
       "\n",
       "A tibble: 2 × 5\n",
       "\n",
       "| reg_pais2 &lt;dbl&gt; | obito &lt;int&gt; | media_obito &lt;dbl&gt; | desvio_obito &lt;dbl&gt; | variância &lt;dbl&gt; |\n",
       "|---|---|---|---|---|\n",
       "| 0 | 4979 | 88.38776 | 15.31675 | 234.6029 |\n",
       "| 1 | 5021 | 78.22357 | 15.16313 | 229.9206 |\n",
       "\n"
      ],
      "text/plain": [
       "  reg_pais2 obito media_obito desvio_obito variância\n",
       "1 0         4979  88.38776    15.31675     234.6029 \n",
       "2 1         5021  78.22357    15.16313     229.9206 "
      ]
     },
     "metadata": {},
     "output_type": "display_data"
    }
   ],
   "source": [
    "caso_3 %>% \n",
    "  group_by(reg_pais2) %>% \n",
    "  summarise(obito = n(),\n",
    "            media_obito = mean(obito_ant), \n",
    "            desvio_obito = sd(obito_ant),\n",
    "            variância = var(obito_ant))"
   ]
  },
  {
   "cell_type": "markdown",
   "id": "2d03a83b",
   "metadata": {},
   "source": [
    "## Indice de desempenho das regiões 3 por obito"
   ]
  },
  {
   "cell_type": "code",
   "execution_count": 35,
   "id": "049983b6",
   "metadata": {},
   "outputs": [
    {
     "data": {
      "text/html": [
       "<table class=\"dataframe\">\n",
       "<caption>A tibble: 2 × 5</caption>\n",
       "<thead>\n",
       "\t<tr><th scope=col>reg_pais3</th><th scope=col>obito</th><th scope=col>media_obito</th><th scope=col>desvio_obito</th><th scope=col>variância</th></tr>\n",
       "\t<tr><th scope=col>&lt;dbl&gt;</th><th scope=col>&lt;int&gt;</th><th scope=col>&lt;dbl&gt;</th><th scope=col>&lt;dbl&gt;</th><th scope=col>&lt;dbl&gt;</th></tr>\n",
       "</thead>\n",
       "<tbody>\n",
       "\t<tr><td>0</td><td>4968</td><td>80.75027</td><td>15.85026</td><td>251.2307</td></tr>\n",
       "\t<tr><td>1</td><td>5032</td><td>85.78614</td><td>15.88236</td><td>252.2495</td></tr>\n",
       "</tbody>\n",
       "</table>\n"
      ],
      "text/latex": [
       "A tibble: 2 × 5\n",
       "\\begin{tabular}{lllll}\n",
       " reg\\_pais3 & obito & media\\_obito & desvio\\_obito & variância\\\\\n",
       " <dbl> & <int> & <dbl> & <dbl> & <dbl>\\\\\n",
       "\\hline\n",
       "\t 0 & 4968 & 80.75027 & 15.85026 & 251.2307\\\\\n",
       "\t 1 & 5032 & 85.78614 & 15.88236 & 252.2495\\\\\n",
       "\\end{tabular}\n"
      ],
      "text/markdown": [
       "\n",
       "A tibble: 2 × 5\n",
       "\n",
       "| reg_pais3 &lt;dbl&gt; | obito &lt;int&gt; | media_obito &lt;dbl&gt; | desvio_obito &lt;dbl&gt; | variância &lt;dbl&gt; |\n",
       "|---|---|---|---|---|\n",
       "| 0 | 4968 | 80.75027 | 15.85026 | 251.2307 |\n",
       "| 1 | 5032 | 85.78614 | 15.88236 | 252.2495 |\n",
       "\n"
      ],
      "text/plain": [
       "  reg_pais3 obito media_obito desvio_obito variância\n",
       "1 0         4968  80.75027    15.85026     251.2307 \n",
       "2 1         5032  85.78614    15.88236     252.2495 "
      ]
     },
     "metadata": {},
     "output_type": "display_data"
    }
   ],
   "source": [
    "caso_3 %>% \n",
    "  group_by(reg_pais3) %>% \n",
    "  summarise(obito = n(),\n",
    "            media_obito = mean(obito_ant), \n",
    "            desvio_obito = sd(obito_ant),\n",
    "            variância = var(obito_ant))"
   ]
  },
  {
   "cell_type": "markdown",
   "id": "b033ec6b",
   "metadata": {},
   "source": [
    "## Indice de desempenho das regiões 4 por obito"
   ]
  },
  {
   "cell_type": "code",
   "execution_count": 36,
   "id": "277c356c",
   "metadata": {},
   "outputs": [
    {
     "data": {
      "text/html": [
       "<table class=\"dataframe\">\n",
       "<caption>A tibble: 2 × 5</caption>\n",
       "<thead>\n",
       "\t<tr><th scope=col>reg_pais4</th><th scope=col>obito</th><th scope=col>media_obito</th><th scope=col>desvio_obito</th><th scope=col>variância</th></tr>\n",
       "\t<tr><th scope=col>&lt;dbl&gt;</th><th scope=col>&lt;int&gt;</th><th scope=col>&lt;dbl&gt;</th><th scope=col>&lt;dbl&gt;</th><th scope=col>&lt;dbl&gt;</th></tr>\n",
       "</thead>\n",
       "<tbody>\n",
       "\t<tr><td>0</td><td>4977</td><td>78.16596</td><td>15.25271</td><td>232.6453</td></tr>\n",
       "\t<tr><td>1</td><td>5023</td><td>88.35581</td><td>15.21849</td><td>231.6024</td></tr>\n",
       "</tbody>\n",
       "</table>\n"
      ],
      "text/latex": [
       "A tibble: 2 × 5\n",
       "\\begin{tabular}{lllll}\n",
       " reg\\_pais4 & obito & media\\_obito & desvio\\_obito & variância\\\\\n",
       " <dbl> & <int> & <dbl> & <dbl> & <dbl>\\\\\n",
       "\\hline\n",
       "\t 0 & 4977 & 78.16596 & 15.25271 & 232.6453\\\\\n",
       "\t 1 & 5023 & 88.35581 & 15.21849 & 231.6024\\\\\n",
       "\\end{tabular}\n"
      ],
      "text/markdown": [
       "\n",
       "A tibble: 2 × 5\n",
       "\n",
       "| reg_pais4 &lt;dbl&gt; | obito &lt;int&gt; | media_obito &lt;dbl&gt; | desvio_obito &lt;dbl&gt; | variância &lt;dbl&gt; |\n",
       "|---|---|---|---|---|\n",
       "| 0 | 4977 | 78.16596 | 15.25271 | 232.6453 |\n",
       "| 1 | 5023 | 88.35581 | 15.21849 | 231.6024 |\n",
       "\n"
      ],
      "text/plain": [
       "  reg_pais4 obito media_obito desvio_obito variância\n",
       "1 0         4977  78.16596    15.25271     232.6453 \n",
       "2 1         5023  88.35581    15.21849     231.6024 "
      ]
     },
     "metadata": {},
     "output_type": "display_data"
    }
   ],
   "source": [
    "caso_3 %>% \n",
    "  group_by(reg_pais4) %>% \n",
    "  summarise(obito = n(),\n",
    "            media_obito = mean(obito_ant), \n",
    "            desvio_obito = sd(obito_ant),\n",
    "            variância = var(obito_ant))"
   ]
  },
  {
   "cell_type": "markdown",
   "id": "c3d52f21",
   "metadata": {},
   "source": [
    "## Indice de desempenho das regiões 5 por obito"
   ]
  },
  {
   "cell_type": "code",
   "execution_count": 37,
   "id": "24ec4ab2",
   "metadata": {},
   "outputs": [
    {
     "data": {
      "text/html": [
       "<table class=\"dataframe\">\n",
       "<caption>A tibble: 2 × 5</caption>\n",
       "<thead>\n",
       "\t<tr><th scope=col>reg_pais5</th><th scope=col>obito</th><th scope=col>media_obito</th><th scope=col>desvio_obito</th><th scope=col>variância</th></tr>\n",
       "\t<tr><th scope=col>&lt;dbl&gt;</th><th scope=col>&lt;int&gt;</th><th scope=col>&lt;dbl&gt;</th><th scope=col>&lt;dbl&gt;</th><th scope=col>&lt;dbl&gt;</th></tr>\n",
       "</thead>\n",
       "<tbody>\n",
       "\t<tr><td>0</td><td>4995</td><td>75.92845</td><td>14.21001</td><td>201.9244</td></tr>\n",
       "\t<tr><td>1</td><td>5005</td><td>90.62549</td><td>14.36026</td><td>206.2170</td></tr>\n",
       "</tbody>\n",
       "</table>\n"
      ],
      "text/latex": [
       "A tibble: 2 × 5\n",
       "\\begin{tabular}{lllll}\n",
       " reg\\_pais5 & obito & media\\_obito & desvio\\_obito & variância\\\\\n",
       " <dbl> & <int> & <dbl> & <dbl> & <dbl>\\\\\n",
       "\\hline\n",
       "\t 0 & 4995 & 75.92845 & 14.21001 & 201.9244\\\\\n",
       "\t 1 & 5005 & 90.62549 & 14.36026 & 206.2170\\\\\n",
       "\\end{tabular}\n"
      ],
      "text/markdown": [
       "\n",
       "A tibble: 2 × 5\n",
       "\n",
       "| reg_pais5 &lt;dbl&gt; | obito &lt;int&gt; | media_obito &lt;dbl&gt; | desvio_obito &lt;dbl&gt; | variância &lt;dbl&gt; |\n",
       "|---|---|---|---|---|\n",
       "| 0 | 4995 | 75.92845 | 14.21001 | 201.9244 |\n",
       "| 1 | 5005 | 90.62549 | 14.36026 | 206.2170 |\n",
       "\n"
      ],
      "text/plain": [
       "  reg_pais5 obito media_obito desvio_obito variância\n",
       "1 0         4995  75.92845    14.21001     201.9244 \n",
       "2 1         5005  90.62549    14.36026     206.2170 "
      ]
     },
     "metadata": {},
     "output_type": "display_data"
    }
   ],
   "source": [
    "caso_3 %>% \n",
    "  group_by(reg_pais5) %>% \n",
    "  summarise(obito = n(),\n",
    "            media_obito = mean(obito_ant), \n",
    "            desvio_obito = sd(obito_ant),\n",
    "            variância = var(obito_ant))"
   ]
  },
  {
   "cell_type": "markdown",
   "id": "61295994",
   "metadata": {},
   "source": [
    "## Indice de desempenho das regiões 6 por obito"
   ]
  },
  {
   "cell_type": "code",
   "execution_count": 38,
   "id": "57c68a79",
   "metadata": {
    "scrolled": true
   },
   "outputs": [
    {
     "data": {
      "text/html": [
       "<table class=\"dataframe\">\n",
       "<caption>A tibble: 2 × 5</caption>\n",
       "<thead>\n",
       "\t<tr><th scope=col>reg_pais6</th><th scope=col>obito</th><th scope=col>media_obito</th><th scope=col>desvio_obito</th><th scope=col>variância</th></tr>\n",
       "\t<tr><th scope=col>&lt;dbl&gt;</th><th scope=col>&lt;int&gt;</th><th scope=col>&lt;dbl&gt;</th><th scope=col>&lt;dbl&gt;</th><th scope=col>&lt;dbl&gt;</th></tr>\n",
       "</thead>\n",
       "<tbody>\n",
       "\t<tr><td>0</td><td>4868</td><td>73.12297</td><td>12.58016</td><td>158.2603</td></tr>\n",
       "\t<tr><td>1</td><td>5132</td><td>92.92295</td><td>12.72362</td><td>161.8904</td></tr>\n",
       "</tbody>\n",
       "</table>\n"
      ],
      "text/latex": [
       "A tibble: 2 × 5\n",
       "\\begin{tabular}{lllll}\n",
       " reg\\_pais6 & obito & media\\_obito & desvio\\_obito & variância\\\\\n",
       " <dbl> & <int> & <dbl> & <dbl> & <dbl>\\\\\n",
       "\\hline\n",
       "\t 0 & 4868 & 73.12297 & 12.58016 & 158.2603\\\\\n",
       "\t 1 & 5132 & 92.92295 & 12.72362 & 161.8904\\\\\n",
       "\\end{tabular}\n"
      ],
      "text/markdown": [
       "\n",
       "A tibble: 2 × 5\n",
       "\n",
       "| reg_pais6 &lt;dbl&gt; | obito &lt;int&gt; | media_obito &lt;dbl&gt; | desvio_obito &lt;dbl&gt; | variância &lt;dbl&gt; |\n",
       "|---|---|---|---|---|\n",
       "| 0 | 4868 | 73.12297 | 12.58016 | 158.2603 |\n",
       "| 1 | 5132 | 92.92295 | 12.72362 | 161.8904 |\n",
       "\n"
      ],
      "text/plain": [
       "  reg_pais6 obito media_obito desvio_obito variância\n",
       "1 0         4868  73.12297    12.58016     158.2603 \n",
       "2 1         5132  92.92295    12.72362     161.8904 "
      ]
     },
     "metadata": {},
     "output_type": "display_data"
    }
   ],
   "source": [
    "caso_3 %>% \n",
    "  group_by(reg_pais6) %>% \n",
    "  summarise(obito = n(),\n",
    "            media_obito = mean(obito_ant), \n",
    "            desvio_obito = sd(obito_ant),\n",
    "            variância = var(obito_ant))"
   ]
  },
  {
   "cell_type": "markdown",
   "id": "a2debab7",
   "metadata": {},
   "source": [
    "## Letra C \n",
    "\n",
    "##  Matching, apresentar a tabela de balanceamento antes e depois do pareamento"
   ]
  },
  {
   "cell_type": "markdown",
   "id": "9bbbcb68",
   "metadata": {},
   "source": [
    "## PP"
   ]
  },
  {
   "cell_type": "code",
   "execution_count": 42,
   "id": "4dd3d1de",
   "metadata": {},
   "outputs": [
    {
     "data": {
      "text/plain": [
       "\n",
       "Call:\n",
       "glm(formula = pp ~ obito, family = binomial, data = caso_3)\n",
       "\n",
       "Deviance Residuals: \n",
       "    Min       1Q   Median       3Q      Max  \n",
       "-2.0005  -1.0747   0.5445   1.0643   2.0804  \n",
       "\n",
       "Coefficients:\n",
       "             Estimate Std. Error z value Pr(>|z|)    \n",
       "(Intercept)  3.991863   0.125829   31.73   <2e-16 ***\n",
       "obito       -0.035319   0.001102  -32.04   <2e-16 ***\n",
       "---\n",
       "Signif. codes:  0 ‘***’ 0.001 ‘**’ 0.01 ‘*’ 0.05 ‘.’ 0.1 ‘ ’ 1\n",
       "\n",
       "(Dispersion parameter for binomial family taken to be 1)\n",
       "\n",
       "    Null deviance: 13862  on 9999  degrees of freedom\n",
       "Residual deviance: 12660  on 9998  degrees of freedom\n",
       "AIC: 12664\n",
       "\n",
       "Number of Fisher Scoring iterations: 4\n"
      ]
     },
     "metadata": {},
     "output_type": "display_data"
    }
   ],
   "source": [
    "# Propensity Score Model de pp para obito\n",
    "glm1 <- glm(pp ~ obito, family=binomial, data=caso_3)\n",
    "summary(glm1)"
   ]
  },
  {
   "cell_type": "code",
   "execution_count": 43,
   "id": "d36a9102",
   "metadata": {},
   "outputs": [
    {
     "data": {
      "text/plain": [
       "\n",
       "Call:\n",
       "glm(formula = pp ~ obito_ant, family = binomial, data = caso_3)\n",
       "\n",
       "Deviance Residuals: \n",
       "   Min      1Q  Median      3Q     Max  \n",
       "-1.223  -1.186   1.139   1.169   1.206  \n",
       "\n",
       "Coefficients:\n",
       "             Estimate Std. Error z value Pr(>|z|)\n",
       "(Intercept) -0.143570   0.105638  -1.359    0.174\n",
       "obito_ant    0.001964   0.001246   1.577    0.115\n",
       "\n",
       "(Dispersion parameter for binomial family taken to be 1)\n",
       "\n",
       "    Null deviance: 13862  on 9999  degrees of freedom\n",
       "Residual deviance: 13859  on 9998  degrees of freedom\n",
       "AIC: 13863\n",
       "\n",
       "Number of Fisher Scoring iterations: 3\n"
      ]
     },
     "metadata": {},
     "output_type": "display_data"
    }
   ],
   "source": [
    "# Propensity Score Model de pp para obito_ant\n",
    "glm2 <- glm(pp ~ obito_ant, family=binomial, data=caso_3)\n",
    "summary(glm2)"
   ]
  },
  {
   "cell_type": "markdown",
   "id": "5eb01eed",
   "metadata": {},
   "source": [
    "## reg_pais1"
   ]
  },
  {
   "cell_type": "code",
   "execution_count": 44,
   "id": "ccbe3e08",
   "metadata": {},
   "outputs": [
    {
     "data": {
      "text/plain": [
       "\n",
       "Call:\n",
       "glm(formula = reg_pais1 ~ obito, family = binomial, data = caso_3)\n",
       "\n",
       "Deviance Residuals: \n",
       "    Min       1Q   Median       3Q      Max  \n",
       "-1.7825  -1.1267  -0.7207   1.1365   1.8474  \n",
       "\n",
       "Coefficients:\n",
       "             Estimate Std. Error z value Pr(>|z|)    \n",
       "(Intercept)  2.513319   0.114997   21.86   <2e-16 ***\n",
       "obito       -0.022509   0.001007  -22.34   <2e-16 ***\n",
       "---\n",
       "Signif. codes:  0 ‘***’ 0.001 ‘**’ 0.01 ‘*’ 0.05 ‘.’ 0.1 ‘ ’ 1\n",
       "\n",
       "(Dispersion parameter for binomial family taken to be 1)\n",
       "\n",
       "    Null deviance: 13862  on 9999  degrees of freedom\n",
       "Residual deviance: 13326  on 9998  degrees of freedom\n",
       "AIC: 13330\n",
       "\n",
       "Number of Fisher Scoring iterations: 4\n"
      ]
     },
     "metadata": {},
     "output_type": "display_data"
    }
   ],
   "source": [
    "# Propensity Score Model de regiao_1 para obito\n",
    "glm3 <- glm(reg_pais1 ~ obito, family=binomial, data=caso_3)\n",
    "summary(glm3)"
   ]
  },
  {
   "cell_type": "code",
   "execution_count": 45,
   "id": "4ad75b20",
   "metadata": {},
   "outputs": [
    {
     "data": {
      "text/plain": [
       "\n",
       "Call:\n",
       "glm(formula = reg_pais1 ~ obito_ant, family = binomial, data = caso_3)\n",
       "\n",
       "Deviance Residuals: \n",
       "    Min       1Q   Median       3Q      Max  \n",
       "-1.7303  -1.1125  -0.6727   1.1207   1.7476  \n",
       "\n",
       "Coefficients:\n",
       "             Estimate Std. Error z value Pr(>|z|)    \n",
       "(Intercept)  2.843381   0.115243   24.67   <2e-16 ***\n",
       "obito_ant   -0.034342   0.001362  -25.21   <2e-16 ***\n",
       "---\n",
       "Signif. codes:  0 ‘***’ 0.001 ‘**’ 0.01 ‘*’ 0.05 ‘.’ 0.1 ‘ ’ 1\n",
       "\n",
       "(Dispersion parameter for binomial family taken to be 1)\n",
       "\n",
       "    Null deviance: 13862  on 9999  degrees of freedom\n",
       "Residual deviance: 13168  on 9998  degrees of freedom\n",
       "AIC: 13172\n",
       "\n",
       "Number of Fisher Scoring iterations: 4\n"
      ]
     },
     "metadata": {},
     "output_type": "display_data"
    }
   ],
   "source": [
    "# Propensity Score Model de regiao_2 para obito_ant\n",
    "glm4 <- glm(reg_pais1 ~ obito_ant, family=binomial, data=caso_3)\n",
    "summary(glm4)"
   ]
  },
  {
   "cell_type": "markdown",
   "id": "a81209dc",
   "metadata": {},
   "source": [
    "## reg_pais2"
   ]
  },
  {
   "cell_type": "code",
   "execution_count": 46,
   "id": "83987068",
   "metadata": {},
   "outputs": [
    {
     "data": {
      "text/plain": [
       "\n",
       "Call:\n",
       "glm(formula = reg_pais2 ~ obito, family = binomial, data = caso_3)\n",
       "\n",
       "Deviance Residuals: \n",
       "    Min       1Q   Median       3Q      Max  \n",
       "-1.8571  -1.1045   0.5838   1.1024   1.8659  \n",
       "\n",
       "Coefficients:\n",
       "             Estimate Std. Error z value Pr(>|z|)    \n",
       "(Intercept)  3.280072   0.120094   27.31   <2e-16 ***\n",
       "obito       -0.029104   0.001052  -27.67   <2e-16 ***\n",
       "---\n",
       "Signif. codes:  0 ‘***’ 0.001 ‘**’ 0.01 ‘*’ 0.05 ‘.’ 0.1 ‘ ’ 1\n",
       "\n",
       "(Dispersion parameter for binomial family taken to be 1)\n",
       "\n",
       "    Null deviance: 13863  on 9999  degrees of freedom\n",
       "Residual deviance: 13006  on 9998  degrees of freedom\n",
       "AIC: 13010\n",
       "\n",
       "Number of Fisher Scoring iterations: 4\n"
      ]
     },
     "metadata": {},
     "output_type": "display_data"
    }
   ],
   "source": [
    "# Propensity Score Model de regiao_2 para obito\n",
    "glm4 <- glm(reg_pais2 ~ obito, family=binomial, data=caso_3)\n",
    "summary(glm4)"
   ]
  },
  {
   "cell_type": "code",
   "execution_count": 47,
   "id": "668726a9",
   "metadata": {},
   "outputs": [
    {
     "data": {
      "text/plain": [
       "\n",
       "Call:\n",
       "glm(formula = reg_pais2 ~ obito_ant, family = binomial, data = caso_3)\n",
       "\n",
       "Deviance Residuals: \n",
       "    Min       1Q   Median       3Q      Max  \n",
       "-1.8592  -1.0941   0.5579   1.0849   1.8146  \n",
       "\n",
       "Coefficients:\n",
       "             Estimate Std. Error z value Pr(>|z|)    \n",
       "(Intercept)  3.606069   0.120746   29.86   <2e-16 ***\n",
       "obito_ant   -0.043188   0.001427  -30.27   <2e-16 ***\n",
       "---\n",
       "Signif. codes:  0 ‘***’ 0.001 ‘**’ 0.01 ‘*’ 0.05 ‘.’ 0.1 ‘ ’ 1\n",
       "\n",
       "(Dispersion parameter for binomial family taken to be 1)\n",
       "\n",
       "    Null deviance: 13863  on 9999  degrees of freedom\n",
       "Residual deviance: 12815  on 9998  degrees of freedom\n",
       "AIC: 12819\n",
       "\n",
       "Number of Fisher Scoring iterations: 4\n"
      ]
     },
     "metadata": {},
     "output_type": "display_data"
    }
   ],
   "source": [
    "# Propensity Score Model de regiao_2 para obito_ant\n",
    "glm5 <- glm(reg_pais2 ~ obito_ant, family=binomial, data=caso_3)\n",
    "summary(glm5)"
   ]
  },
  {
   "cell_type": "markdown",
   "id": "0ecad8de",
   "metadata": {},
   "source": [
    "## reg_pais3"
   ]
  },
  {
   "cell_type": "code",
   "execution_count": 48,
   "id": "6b82067f",
   "metadata": {},
   "outputs": [
    {
     "data": {
      "text/plain": [
       "\n",
       "Call:\n",
       "glm(formula = reg_pais3 ~ obito, family = binomial, data = caso_3)\n",
       "\n",
       "Deviance Residuals: \n",
       "   Min      1Q  Median      3Q     Max  \n",
       "-1.548  -1.165   0.893   1.158   1.556  \n",
       "\n",
       "Coefficients:\n",
       "              Estimate Std. Error z value Pr(>|z|)    \n",
       "(Intercept) -1.4486867  0.1098901  -13.18   <2e-16 ***\n",
       "obito        0.0130057  0.0009614   13.53   <2e-16 ***\n",
       "---\n",
       "Signif. codes:  0 ‘***’ 0.001 ‘**’ 0.01 ‘*’ 0.05 ‘.’ 0.1 ‘ ’ 1\n",
       "\n",
       "(Dispersion parameter for binomial family taken to be 1)\n",
       "\n",
       "    Null deviance: 13863  on 9999  degrees of freedom\n",
       "Residual deviance: 13675  on 9998  degrees of freedom\n",
       "AIC: 13679\n",
       "\n",
       "Number of Fisher Scoring iterations: 4\n"
      ]
     },
     "metadata": {},
     "output_type": "display_data"
    }
   ],
   "source": [
    "# Propensity Score Model de regiao_3 para obito\n",
    "glm6 <- glm(reg_pais3 ~ obito, family=binomial, data=caso_3)\n",
    "summary(glm6)"
   ]
  },
  {
   "cell_type": "code",
   "execution_count": 49,
   "id": "16ccd110",
   "metadata": {},
   "outputs": [
    {
     "data": {
      "text/plain": [
       "\n",
       "Call:\n",
       "glm(formula = reg_pais3 ~ obito, family = binomial, data = caso_3)\n",
       "\n",
       "Deviance Residuals: \n",
       "   Min      1Q  Median      3Q     Max  \n",
       "-1.548  -1.165   0.893   1.158   1.556  \n",
       "\n",
       "Coefficients:\n",
       "              Estimate Std. Error z value Pr(>|z|)    \n",
       "(Intercept) -1.4486867  0.1098901  -13.18   <2e-16 ***\n",
       "obito        0.0130057  0.0009614   13.53   <2e-16 ***\n",
       "---\n",
       "Signif. codes:  0 ‘***’ 0.001 ‘**’ 0.01 ‘*’ 0.05 ‘.’ 0.1 ‘ ’ 1\n",
       "\n",
       "(Dispersion parameter for binomial family taken to be 1)\n",
       "\n",
       "    Null deviance: 13863  on 9999  degrees of freedom\n",
       "Residual deviance: 13675  on 9998  degrees of freedom\n",
       "AIC: 13679\n",
       "\n",
       "Number of Fisher Scoring iterations: 4\n"
      ]
     },
     "metadata": {},
     "output_type": "display_data"
    }
   ],
   "source": [
    "# Propensity Score Model de regiao_3 para obito\n",
    "glm7 <- glm(reg_pais3 ~ obito, family=binomial, data=caso_3)\n",
    "summary(glm7)"
   ]
  },
  {
   "cell_type": "code",
   "execution_count": 50,
   "id": "3360c154",
   "metadata": {},
   "outputs": [
    {
     "data": {
      "text/plain": [
       "\n",
       "Call:\n",
       "glm(formula = reg_pais3 ~ obito_ant, family = binomial, data = caso_3)\n",
       "\n",
       "Deviance Residuals: \n",
       "   Min      1Q  Median      3Q     Max  \n",
       "-1.542  -1.160   0.858   1.152   1.518  \n",
       "\n",
       "Coefficients:\n",
       "             Estimate Std. Error z value Pr(>|z|)    \n",
       "(Intercept) -1.647441   0.108924  -15.12   <2e-16 ***\n",
       "obito_ant    0.019939   0.001286   15.51   <2e-16 ***\n",
       "---\n",
       "Signif. codes:  0 ‘***’ 0.001 ‘**’ 0.01 ‘*’ 0.05 ‘.’ 0.1 ‘ ’ 1\n",
       "\n",
       "(Dispersion parameter for binomial family taken to be 1)\n",
       "\n",
       "    Null deviance: 13863  on 9999  degrees of freedom\n",
       "Residual deviance: 13614  on 9998  degrees of freedom\n",
       "AIC: 13618\n",
       "\n",
       "Number of Fisher Scoring iterations: 4\n"
      ]
     },
     "metadata": {},
     "output_type": "display_data"
    }
   ],
   "source": [
    "# Propensity Score Model de regiao_3 para obito_ant\n",
    "glm8 <- glm(reg_pais3 ~ obito_ant, family=binomial, data=caso_3)\n",
    "summary(glm8)"
   ]
  },
  {
   "cell_type": "markdown",
   "id": "f7ce411f",
   "metadata": {},
   "source": [
    "## reg_pais4"
   ]
  },
  {
   "cell_type": "code",
   "execution_count": 51,
   "id": "b767e5e3",
   "metadata": {},
   "outputs": [
    {
     "data": {
      "text/plain": [
       "\n",
       "Call:\n",
       "glm(formula = reg_pais4 ~ obito, family = binomial, data = caso_3)\n",
       "\n",
       "Deviance Residuals: \n",
       "    Min       1Q   Median       3Q      Max  \n",
       "-1.8817  -1.1058   0.5972   1.1019   1.8509  \n",
       "\n",
       "Coefficients:\n",
       "             Estimate Std. Error z value Pr(>|z|)    \n",
       "(Intercept) -3.214527   0.119648  -26.87   <2e-16 ***\n",
       "obito        0.028691   0.001049   27.35   <2e-16 ***\n",
       "---\n",
       "Signif. codes:  0 ‘***’ 0.001 ‘**’ 0.01 ‘*’ 0.05 ‘.’ 0.1 ‘ ’ 1\n",
       "\n",
       "(Dispersion parameter for binomial family taken to be 1)\n",
       "\n",
       "    Null deviance: 13863  on 9999  degrees of freedom\n",
       "Residual deviance: 13027  on 9998  degrees of freedom\n",
       "AIC: 13031\n",
       "\n",
       "Number of Fisher Scoring iterations: 4\n"
      ]
     },
     "metadata": {},
     "output_type": "display_data"
    }
   ],
   "source": [
    "# Propensity Score Model de regiao_4 para obito\n",
    "glm9 <- glm(reg_pais4 ~ obito, family=binomial, data=caso_3)\n",
    "summary(glm9)"
   ]
  },
  {
   "cell_type": "code",
   "execution_count": 52,
   "id": "967779d1",
   "metadata": {},
   "outputs": [
    {
     "data": {
      "text/plain": [
       "\n",
       "Call:\n",
       "glm(formula = reg_pais4 ~ obito_ant, family = binomial, data = caso_3)\n",
       "\n",
       "Deviance Residuals: \n",
       "    Min       1Q   Median       3Q      Max  \n",
       "-1.8872  -1.0854   0.5585   1.0841   1.8306  \n",
       "\n",
       "Coefficients:\n",
       "             Estimate Std. Error z value Pr(>|z|)    \n",
       "(Intercept) -3.597433   0.120714  -29.80   <2e-16 ***\n",
       "obito_ant    0.043319   0.001428   30.34   <2e-16 ***\n",
       "---\n",
       "Signif. codes:  0 ‘***’ 0.001 ‘**’ 0.01 ‘*’ 0.05 ‘.’ 0.1 ‘ ’ 1\n",
       "\n",
       "(Dispersion parameter for binomial family taken to be 1)\n",
       "\n",
       "    Null deviance: 13863  on 9999  degrees of freedom\n",
       "Residual deviance: 12810  on 9998  degrees of freedom\n",
       "AIC: 12814\n",
       "\n",
       "Number of Fisher Scoring iterations: 4\n"
      ]
     },
     "metadata": {},
     "output_type": "display_data"
    }
   ],
   "source": [
    "# Propensity Score Model de regiao_4 para obito_ant\n",
    "glm10 <- glm(reg_pais4 ~ obito_ant, family=binomial, data=caso_3)\n",
    "summary(glm10)"
   ]
  },
  {
   "cell_type": "markdown",
   "id": "6a0e9be4",
   "metadata": {},
   "source": [
    "## reg_pais5"
   ]
  },
  {
   "cell_type": "code",
   "execution_count": 53,
   "id": "09fcba75",
   "metadata": {},
   "outputs": [
    {
     "data": {
      "text/plain": [
       "\n",
       "Call:\n",
       "glm(formula = reg_pais5 ~ obito, family = binomial, data = caso_3)\n",
       "\n",
       "Deviance Residuals: \n",
       "    Min       1Q   Median       3Q      Max  \n",
       "-2.1946  -1.0134   0.3232   1.0089   2.1588  \n",
       "\n",
       "Coefficients:\n",
       "             Estimate Std. Error z value Pr(>|z|)    \n",
       "(Intercept) -5.146343   0.137026  -37.56   <2e-16 ***\n",
       "obito        0.045815   0.001204   38.06   <2e-16 ***\n",
       "---\n",
       "Signif. codes:  0 ‘***’ 0.001 ‘**’ 0.01 ‘*’ 0.05 ‘.’ 0.1 ‘ ’ 1\n",
       "\n",
       "(Dispersion parameter for binomial family taken to be 1)\n",
       "\n",
       "    Null deviance: 13863  on 9999  degrees of freedom\n",
       "Residual deviance: 12020  on 9998  degrees of freedom\n",
       "AIC: 12024\n",
       "\n",
       "Number of Fisher Scoring iterations: 3\n"
      ]
     },
     "metadata": {},
     "output_type": "display_data"
    }
   ],
   "source": [
    "# Propensity Score Model de regiao_5 para obito\n",
    "glm11 <- glm(reg_pais5 ~ obito, family=binomial, data=caso_3)\n",
    "summary(glm11)"
   ]
  },
  {
   "cell_type": "code",
   "execution_count": 54,
   "id": "e517127c",
   "metadata": {},
   "outputs": [
    {
     "data": {
      "text/plain": [
       "\n",
       "Call:\n",
       "glm(formula = reg_pais5 ~ obito_ant, family = binomial, data = caso_3)\n",
       "\n",
       "Deviance Residuals: \n",
       "    Min       1Q   Median       3Q      Max  \n",
       "-2.1376  -0.9708   0.3021   0.9694   2.0907  \n",
       "\n",
       "Coefficients:\n",
       "             Estimate Std. Error z value Pr(>|z|)    \n",
       "(Intercept) -5.853867   0.142994  -40.94   <2e-16 ***\n",
       "obito_ant    0.070322   0.001696   41.47   <2e-16 ***\n",
       "---\n",
       "Signif. codes:  0 ‘***’ 0.001 ‘**’ 0.01 ‘*’ 0.05 ‘.’ 0.1 ‘ ’ 1\n",
       "\n",
       "(Dispersion parameter for binomial family taken to be 1)\n",
       "\n",
       "    Null deviance: 13863  on 9999  degrees of freedom\n",
       "Residual deviance: 11547  on 9998  degrees of freedom\n",
       "AIC: 11551\n",
       "\n",
       "Number of Fisher Scoring iterations: 3\n"
      ]
     },
     "metadata": {},
     "output_type": "display_data"
    }
   ],
   "source": [
    "# Propensity Score Model de regiao_5 para obito_ant\n",
    "glm12 <- glm(reg_pais5 ~ obito_ant, family=binomial, data=caso_3)\n",
    "summary(glm12)"
   ]
  },
  {
   "cell_type": "markdown",
   "id": "1badf472",
   "metadata": {},
   "source": [
    "## reg_pais6"
   ]
  },
  {
   "cell_type": "code",
   "execution_count": 55,
   "id": "aa6afd70",
   "metadata": {},
   "outputs": [
    {
     "data": {
      "text/plain": [
       "\n",
       "Call:\n",
       "glm(formula = reg_pais6 ~ obito, family = binomial, data = caso_3)\n",
       "\n",
       "Deviance Residuals: \n",
       "    Min       1Q   Median       3Q      Max  \n",
       "-2.5272  -0.8357   0.2473   0.8326   2.5217  \n",
       "\n",
       "Coefficients:\n",
       "            Estimate Std. Error z value Pr(>|z|)    \n",
       "(Intercept) -8.21457    0.17609  -46.65   <2e-16 ***\n",
       "obito        0.07379    0.00156   47.30   <2e-16 ***\n",
       "---\n",
       "Signif. codes:  0 ‘***’ 0.001 ‘**’ 0.01 ‘*’ 0.05 ‘.’ 0.1 ‘ ’ 1\n",
       "\n",
       "(Dispersion parameter for binomial family taken to be 1)\n",
       "\n",
       "    Null deviance: 13856  on 9999  degrees of freedom\n",
       "Residual deviance: 10245  on 9998  degrees of freedom\n",
       "AIC: 10249\n",
       "\n",
       "Number of Fisher Scoring iterations: 4\n"
      ]
     },
     "metadata": {},
     "output_type": "display_data"
    }
   ],
   "source": [
    "# Propensity Score Model de regiao_6 para obito\n",
    "glm13 <- glm(reg_pais6 ~ obito, family=binomial, data=caso_3)\n",
    "summary(glm13)"
   ]
  },
  {
   "cell_type": "code",
   "execution_count": 56,
   "id": "d44e4846",
   "metadata": {},
   "outputs": [
    {
     "data": {
      "text/plain": [
       "\n",
       "Call:\n",
       "glm(formula = reg_pais6 ~ obito_ant, family = binomial, data = caso_3)\n",
       "\n",
       "Deviance Residuals: \n",
       "    Min       1Q   Median       3Q      Max  \n",
       "-2.4430  -0.7239   0.1649   0.7143   2.4742  \n",
       "\n",
       "Coefficients:\n",
       "              Estimate Std. Error z value Pr(>|z|)    \n",
       "(Intercept) -10.068083   0.203837  -49.39   <2e-16 ***\n",
       "obito_ant     0.121956   0.002441   49.96   <2e-16 ***\n",
       "---\n",
       "Signif. codes:  0 ‘***’ 0.001 ‘**’ 0.01 ‘*’ 0.05 ‘.’ 0.1 ‘ ’ 1\n",
       "\n",
       "(Dispersion parameter for binomial family taken to be 1)\n",
       "\n",
       "    Null deviance: 13856  on 9999  degrees of freedom\n",
       "Residual deviance:  9170  on 9998  degrees of freedom\n",
       "AIC: 9174\n",
       "\n",
       "Number of Fisher Scoring iterations: 5\n"
      ]
     },
     "metadata": {},
     "output_type": "display_data"
    }
   ],
   "source": [
    "# Propensity Score Model de regiao_6 para obito\n",
    "glm14 <- glm(reg_pais6 ~ obito_ant, family=binomial, data=caso_3)\n",
    "summary(glm14)"
   ]
  }
 ],
 "metadata": {
  "kernelspec": {
   "display_name": "R",
   "language": "R",
   "name": "ir"
  },
  "language_info": {
   "codemirror_mode": "r",
   "file_extension": ".r",
   "mimetype": "text/x-r-source",
   "name": "R",
   "pygments_lexer": "r",
   "version": "3.6.3"
  }
 },
 "nbformat": 4,
 "nbformat_minor": 5
}
